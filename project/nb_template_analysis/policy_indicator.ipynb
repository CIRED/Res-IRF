{
 "cells": [
  {
   "cell_type": "markdown",
   "id": "82f06a7d",
   "metadata": {},
   "source": [
    "# Prospective evaluation of policies to reduce energy demand reduction policies for residential space heating\n",
    "\n",
    "**Objective**:\n",
    "The present exercise values, with the help of the technical-economic model Res-IRF, the effect of the main energy efficiency subsidies (tax credit for energy transition, co-payment of zero-rate, VAT at reduced rate, energy saving certificates), the carbon tax and the thermal regulation on the energy demand for heating homes in France.\n",
    "\n",
    "About **this Notebook**:  \n",
    "This notebook is an example of post-treatment to **assess public policies**.  \n",
    "It takes as input a folder with at least 2 output of Res-IRF run. Each represents a scenario: one considering the public policies, and one not.\n",
    "\n",
    "**Step 1: Run Res-IRF with Multiple scenarios.**   \n",
    "**Step 2: Launch this Notebook and put folder name that is a Res-IRF ouput folder.**\n",
    "\n",
    "\n",
    "About **Res-IRF**:  \n",
    "The Res-IRF model is a tool for simulating energy consumption for space heating in the French residential sector.  \n",
    "Its main characteristic is to integrate a detailed description of the energy performance of the dwelling stock with a rich description of household behaviour."
   ]
  },
  {
   "cell_type": "markdown",
   "id": "71b44b0b",
   "metadata": {},
   "source": [
    "## Methodology for evaluating public policies\n",
    "\n",
    "The simulations are based on the following principles:\n",
    "1. All instruments apply from 2012 (except the carbon tax which applies from 2014) and are maintained until 2050 ; they are therefore taken into account in the calibration of the model;\n",
    "2. The different instruments are fully cumulative with each other;\n",
    "3. The instruments operate at full capacity; in particular, a household who achieves an innovation takes all the aids for which he or she is eligible;\n",
    "4. The instruments apply equally to private and social housing;\n",
    "5. Incentives are perfectly transmitted to households, without being captured by energy efficiency sellers in the form of an increase in the base price; this mechanism is based on an assumption of perfect competition in the energy innovation sector\n",
    "\n",
    "\n",
    "More generally, the study aims at least as much to illustrate qualitatively the mechanisms by which the different instruments operate as to provide a precise quantitative assessment of their impact."
   ]
  },
  {
   "cell_type": "markdown",
   "id": "e6104d51",
   "metadata": {},
   "source": [
    "### Evaluation indicator\n",
    "\n",
    "Version 3.0 of Res-IRF allows for a multi-criteria evaluation of policies. \n",
    "- The **effectiveness** of an intervention - instrument or mix of instruments - is measured as its ability to achieve the **objectives** assigned to it - in this case, the five objectives defined bellow. \n",
    "- To this indicator, we now add the **efficiency** of an intervention, valued as its capacity to achieve a certain **objective at the lowest cost**. This notion only applies to incentive instruments and therefore not to thermal regulation. Two efficiency indicators are calculated: \n",
    "    - **cost-efficiency** and,\n",
    "    - **leverage effect**. \n",
    "- Finally, the differentiation of households by income category allows us to evaluate the **distributional effects**."
   ]
  },
  {
   "cell_type": "markdown",
   "id": "2dfb4abd",
   "metadata": {},
   "source": [
    "**Objectives**:\n",
    "\n",
    "1. Reduction of **final energy consumption by 20% by 2030** and **50% by 2050** compared to 2012 - this objective is applied here to residential heating consumption;\n",
    "2. Energy renovation of **500,000 homes per year**, including 120,000 in social housing;\n",
    "3. Disappearance of **G and F** energy performance housing **by 2025**;\n",
    "4. Renovation of the **entire housing stock** to the \"low-energy building\" level or similar **by 2050**- a requirement interpreted here as a minimum performance equal to the B label of the DPE;\n",
    "5. Reducing **fuel poverty by 15% by 2020**.\n"
   ]
  },
  {
   "cell_type": "markdown",
   "id": "588db2ba",
   "metadata": {},
   "source": [
    "#### Effectivness\n",
    "Evaluating the additional effect of an intervention requires the formulation of a counterfactual scenario, without the intervention under consideration.\n",
    "\n",
    "Two counterfactual situations, obtained by two different methods, are of particular interest because they allow us to limit the impact of each instrument:\n",
    "- Method TP-1: the TP scenario is compared to an alternative scenario without the instrument under consideration. The difference between the two scenarios gives the impact of the instrument in interaction with all the other instruments.\n",
    "- ZP+1 method: the ZP scenario is compared to an alternative scenario with the instrument under consideration. The difference between the two scenarios gives the pure impact of the instrument."
   ]
  },
  {
   "cell_type": "markdown",
   "id": "b5c287a8",
   "metadata": {},
   "source": [
    "# Code\n",
    "\n",
    "To assess the effectivity of a public policy, this Notebook need as input at least 2 scenarios (one with the public policy and another one withtout)"
   ]
  },
  {
   "cell_type": "markdown",
   "id": "a9f1e833",
   "metadata": {},
   "source": [
    "## Reading input"
   ]
  },
  {
   "cell_type": "code",
   "execution_count": 1,
   "id": "150c2bd0",
   "metadata": {
    "collapsed": false,
    "jupyter": {
     "outputs_hidden": false
    },
    "pycharm": {
     "name": "#%%\n"
    }
   },
   "outputs": [],
   "source": [
    "name_folder = '../output/scenarios_input_2012'"
   ]
  },
  {
   "cell_type": "markdown",
   "id": "6400228a",
   "metadata": {},
   "source": [
    "Enter common prefixe to policies scenario:  \n",
    "*Example: enter 'CITE' if scenarios are called 'CITE-2025', 'CITE-2030', ...*"
   ]
  },
  {
   "cell_type": "raw",
   "id": "104ca8f2",
   "metadata": {},
   "source": [
    "policy = 'VTA'"
   ]
  },
  {
   "cell_type": "markdown",
   "id": "bd3e6785",
   "metadata": {},
   "source": [
    "NB: Reference should be one of the scenario name. "
   ]
  },
  {
   "cell_type": "markdown",
   "id": "e59f273a",
   "metadata": {},
   "source": [
    "### Code"
   ]
  },
  {
   "cell_type": "code",
   "execution_count": 2,
   "id": "76bf72ff",
   "metadata": {},
   "outputs": [],
   "source": [
    "import os\n",
    "import pickle\n",
    "import matplotlib.pyplot as plt\n",
    "# from itertools import product\n",
    "import numpy as np\n",
    "import seaborn as sns\n",
    "import sys\n",
    "\n",
    "sys.path.insert(0, \"..\")\n",
    "\n",
    "from ui_utils import *"
   ]
  },
  {
   "cell_type": "code",
   "execution_count": 3,
   "id": "8680648c",
   "metadata": {},
   "outputs": [],
   "source": [
    "name_file = os.path.join('input', 'colors.json')\n",
    "with open(name_file) as file:\n",
    "    colors = json.load(file)"
   ]
  },
  {
   "cell_type": "code",
   "execution_count": 4,
   "id": "11bc4fc2",
   "metadata": {},
   "outputs": [],
   "source": [
    "scenarios = [f for f in os.listdir(os.path.join(name_folder)) if os.path.isdir(os.path.join(name_folder, f))]\n",
    "folders = {scenario: os.path.join(name_folder, scenario) for scenario in scenarios} "
   ]
  },
  {
   "cell_type": "code",
   "execution_count": 5,
   "id": "daf85142",
   "metadata": {},
   "outputs": [],
   "source": [
    "sns.set_palette(sns.color_palette('husl', len(scenarios)))"
   ]
  },
  {
   "cell_type": "code",
   "execution_count": 6,
   "id": "3cf65b00",
   "metadata": {},
   "outputs": [],
   "source": [
    "summaries = {scenario: pd.read_csv(os.path.join(folders[scenario], 'summary.csv'), index_col=[0]) for scenario in scenarios}\n",
    "summaries = reverse_nested_dict(summaries)\n",
    "summaries = {key: pd.DataFrame(item) for key, item in summaries.items()}"
   ]
  },
  {
   "cell_type": "code",
   "execution_count": 7,
   "id": "2bed682a",
   "metadata": {},
   "outputs": [],
   "source": [
    "output_stock = {scenario: pickle.load(open(os.path.join(folders[scenario], 'output_stock.pkl'), 'rb')) for scenario in scenarios}\n",
    "output_stock = reverse_nested_dict(output_stock)"
   ]
  },
  {
   "cell_type": "markdown",
   "id": "b8ef5f7a",
   "metadata": {},
   "source": [
    "# Efficiency\n",
    "\n",
    "To estimate the marginal effect of the instrument in year $t$, we compare scenarios with and without the instrument in year $t$.\n",
    "\n",
    "## Cost effectiveness\n",
    "\n",
    "The cost-efficiency indicator relates the costs of the incentive to its effectiveness measured in terms of energy savings. The cost considered corresponds to the tax expenditure in the case of subsidies and the tax revenue in the case of the tax (i.e., negative cost).\n",
    "\n",
    "The indicator is calculated here in conventional and real energy.   \n",
    "The conventional energy metric makes it possible to eliminate the heterogeneous behavioral effects between households. It leads to **overestimating the effectiveness of subsidies by ignoring the rebound effect** they generate and **underestimating the effectiveness of energy taxes**, which on the contrary induce a sobriety effect.\n",
    "\n",
    "To calculate the cost-efficiency indicator $CE$, the energy savings $\\Delta E_t$ between the scenarios are compared with the incentive present or absent in year $t$ (but in both cases present until year $t-1$), by applying a discount factor $FA$ :\n",
    "\n",
    "$$CE_t = \\frac{Incitation_t}{\\Delta E_t . FA}$$"
   ]
  },
  {
   "cell_type": "code",
   "execution_count": null,
   "id": "b0090617",
   "metadata": {},
   "outputs": [],
   "source": []
  },
  {
   "cell_type": "markdown",
   "id": "cab74579",
   "metadata": {},
   "source": [
    "df = Standard - wo/ policies  \n",
    "df['Consumption actual (kWh)'] < 0  \n",
    "df['Subsidies (€)'] > 0  "
   ]
  },
  {
   "cell_type": "markdown",
   "id": "5652266a",
   "metadata": {},
   "source": [
    "### Energy consumption"
   ]
  },
  {
   "cell_type": "code",
   "execution_count": 24,
   "id": "2016c016",
   "metadata": {},
   "outputs": [
    {
     "ename": "KeyError",
     "evalue": "'Standard'",
     "output_type": "error",
     "traceback": [
      "\u001b[0;31m---------------------------------------------------------------------------\u001b[0m",
      "\u001b[0;31mKeyError\u001b[0m                                  Traceback (most recent call last)",
      "\u001b[0;32m~/opt/anaconda3/lib/python3.7/site-packages/pandas/core/indexes/base.py\u001b[0m in \u001b[0;36mget_loc\u001b[0;34m(self, key, method, tolerance)\u001b[0m\n\u001b[1;32m   3080\u001b[0m             \u001b[0;32mtry\u001b[0m\u001b[0;34m:\u001b[0m\u001b[0;34m\u001b[0m\u001b[0;34m\u001b[0m\u001b[0m\n\u001b[0;32m-> 3081\u001b[0;31m                 \u001b[0;32mreturn\u001b[0m \u001b[0mself\u001b[0m\u001b[0;34m.\u001b[0m\u001b[0m_engine\u001b[0m\u001b[0;34m.\u001b[0m\u001b[0mget_loc\u001b[0m\u001b[0;34m(\u001b[0m\u001b[0mcasted_key\u001b[0m\u001b[0;34m)\u001b[0m\u001b[0;34m\u001b[0m\u001b[0;34m\u001b[0m\u001b[0m\n\u001b[0m\u001b[1;32m   3082\u001b[0m             \u001b[0;32mexcept\u001b[0m \u001b[0mKeyError\u001b[0m \u001b[0;32mas\u001b[0m \u001b[0merr\u001b[0m\u001b[0;34m:\u001b[0m\u001b[0;34m\u001b[0m\u001b[0;34m\u001b[0m\u001b[0m\n",
      "\u001b[0;32mpandas/_libs/index.pyx\u001b[0m in \u001b[0;36mpandas._libs.index.IndexEngine.get_loc\u001b[0;34m()\u001b[0m\n",
      "\u001b[0;32mpandas/_libs/index.pyx\u001b[0m in \u001b[0;36mpandas._libs.index.IndexEngine.get_loc\u001b[0;34m()\u001b[0m\n",
      "\u001b[0;32mpandas/_libs/hashtable_class_helper.pxi\u001b[0m in \u001b[0;36mpandas._libs.hashtable.PyObjectHashTable.get_item\u001b[0;34m()\u001b[0m\n",
      "\u001b[0;32mpandas/_libs/hashtable_class_helper.pxi\u001b[0m in \u001b[0;36mpandas._libs.hashtable.PyObjectHashTable.get_item\u001b[0;34m()\u001b[0m\n",
      "\u001b[0;31mKeyError\u001b[0m: 'Standard'",
      "\nThe above exception was the direct cause of the following exception:\n",
      "\u001b[0;31mKeyError\u001b[0m                                  Traceback (most recent call last)",
      "\u001b[0;32m<ipython-input-24-3311e19a8293>\u001b[0m in \u001b[0;36m<module>\u001b[0;34m\u001b[0m\n\u001b[1;32m      1\u001b[0m \u001b[0mdf\u001b[0m \u001b[0;34m=\u001b[0m \u001b[0msummaries\u001b[0m\u001b[0;34m[\u001b[0m\u001b[0;34m'Consumption actual (kWh)'\u001b[0m\u001b[0;34m]\u001b[0m\u001b[0;34m.\u001b[0m\u001b[0mcopy\u001b[0m\u001b[0;34m(\u001b[0m\u001b[0;34m)\u001b[0m\u001b[0;34m\u001b[0m\u001b[0;34m\u001b[0m\u001b[0m\n\u001b[1;32m      2\u001b[0m \u001b[0mlist_years\u001b[0m \u001b[0;34m=\u001b[0m \u001b[0;34m[\u001b[0m\u001b[0mint\u001b[0m\u001b[0;34m(\u001b[0m\u001b[0mre\u001b[0m\u001b[0;34m.\u001b[0m\u001b[0msearch\u001b[0m\u001b[0;34m(\u001b[0m\u001b[0;34m\"20[0-9][0-9]\"\u001b[0m\u001b[0;34m,\u001b[0m \u001b[0mcolumn\u001b[0m\u001b[0;34m)\u001b[0m\u001b[0;34m[\u001b[0m\u001b[0;36m0\u001b[0m\u001b[0;34m]\u001b[0m\u001b[0;34m)\u001b[0m \u001b[0;32mfor\u001b[0m \u001b[0mcolumn\u001b[0m \u001b[0;32min\u001b[0m \u001b[0mdf\u001b[0m\u001b[0;34m.\u001b[0m\u001b[0mcolumns\u001b[0m \u001b[0;32mif\u001b[0m \u001b[0mre\u001b[0m\u001b[0;34m.\u001b[0m\u001b[0msearch\u001b[0m\u001b[0;34m(\u001b[0m\u001b[0;34m\"20[0-9][0-9]\"\u001b[0m\u001b[0;34m,\u001b[0m \u001b[0mcolumn\u001b[0m\u001b[0;34m)\u001b[0m\u001b[0;34m]\u001b[0m\u001b[0;34m\u001b[0m\u001b[0;34m\u001b[0m\u001b[0m\n\u001b[0;32m----> 3\u001b[0;31m \u001b[0mmarginal_consumption_actual\u001b[0m \u001b[0;34m=\u001b[0m \u001b[0mpd\u001b[0m\u001b[0;34m.\u001b[0m\u001b[0mSeries\u001b[0m\u001b[0;34m(\u001b[0m\u001b[0;34m[\u001b[0m\u001b[0;34m(\u001b[0m\u001b[0mdf\u001b[0m\u001b[0;34m[\u001b[0m\u001b[0;34m'Standard'\u001b[0m\u001b[0;34m]\u001b[0m \u001b[0;34m-\u001b[0m \u001b[0mdf\u001b[0m\u001b[0;34m[\u001b[0m\u001b[0;34m'{}-{}'\u001b[0m\u001b[0;34m.\u001b[0m\u001b[0mformat\u001b[0m\u001b[0;34m(\u001b[0m\u001b[0mpolicy\u001b[0m\u001b[0;34m,\u001b[0m \u001b[0myear\u001b[0m\u001b[0;34m)\u001b[0m\u001b[0;34m]\u001b[0m\u001b[0;34m)\u001b[0m\u001b[0;34m.\u001b[0m\u001b[0mloc\u001b[0m\u001b[0;34m[\u001b[0m\u001b[0myear\u001b[0m\u001b[0;34m]\u001b[0m \u001b[0;32mfor\u001b[0m \u001b[0myear\u001b[0m \u001b[0;32min\u001b[0m \u001b[0mlist_years\u001b[0m\u001b[0;34m]\u001b[0m\u001b[0;34m,\u001b[0m \u001b[0mindex\u001b[0m\u001b[0;34m=\u001b[0m\u001b[0mlist_years\u001b[0m\u001b[0;34m)\u001b[0m\u001b[0;34m\u001b[0m\u001b[0;34m\u001b[0m\u001b[0m\n\u001b[0m",
      "\u001b[0;32m<ipython-input-24-3311e19a8293>\u001b[0m in \u001b[0;36m<listcomp>\u001b[0;34m(.0)\u001b[0m\n\u001b[1;32m      1\u001b[0m \u001b[0mdf\u001b[0m \u001b[0;34m=\u001b[0m \u001b[0msummaries\u001b[0m\u001b[0;34m[\u001b[0m\u001b[0;34m'Consumption actual (kWh)'\u001b[0m\u001b[0;34m]\u001b[0m\u001b[0;34m.\u001b[0m\u001b[0mcopy\u001b[0m\u001b[0;34m(\u001b[0m\u001b[0;34m)\u001b[0m\u001b[0;34m\u001b[0m\u001b[0;34m\u001b[0m\u001b[0m\n\u001b[1;32m      2\u001b[0m \u001b[0mlist_years\u001b[0m \u001b[0;34m=\u001b[0m \u001b[0;34m[\u001b[0m\u001b[0mint\u001b[0m\u001b[0;34m(\u001b[0m\u001b[0mre\u001b[0m\u001b[0;34m.\u001b[0m\u001b[0msearch\u001b[0m\u001b[0;34m(\u001b[0m\u001b[0;34m\"20[0-9][0-9]\"\u001b[0m\u001b[0;34m,\u001b[0m \u001b[0mcolumn\u001b[0m\u001b[0;34m)\u001b[0m\u001b[0;34m[\u001b[0m\u001b[0;36m0\u001b[0m\u001b[0;34m]\u001b[0m\u001b[0;34m)\u001b[0m \u001b[0;32mfor\u001b[0m \u001b[0mcolumn\u001b[0m \u001b[0;32min\u001b[0m \u001b[0mdf\u001b[0m\u001b[0;34m.\u001b[0m\u001b[0mcolumns\u001b[0m \u001b[0;32mif\u001b[0m \u001b[0mre\u001b[0m\u001b[0;34m.\u001b[0m\u001b[0msearch\u001b[0m\u001b[0;34m(\u001b[0m\u001b[0;34m\"20[0-9][0-9]\"\u001b[0m\u001b[0;34m,\u001b[0m \u001b[0mcolumn\u001b[0m\u001b[0;34m)\u001b[0m\u001b[0;34m]\u001b[0m\u001b[0;34m\u001b[0m\u001b[0;34m\u001b[0m\u001b[0m\n\u001b[0;32m----> 3\u001b[0;31m \u001b[0mmarginal_consumption_actual\u001b[0m \u001b[0;34m=\u001b[0m \u001b[0mpd\u001b[0m\u001b[0;34m.\u001b[0m\u001b[0mSeries\u001b[0m\u001b[0;34m(\u001b[0m\u001b[0;34m[\u001b[0m\u001b[0;34m(\u001b[0m\u001b[0mdf\u001b[0m\u001b[0;34m[\u001b[0m\u001b[0;34m'Standard'\u001b[0m\u001b[0;34m]\u001b[0m \u001b[0;34m-\u001b[0m \u001b[0mdf\u001b[0m\u001b[0;34m[\u001b[0m\u001b[0;34m'{}-{}'\u001b[0m\u001b[0;34m.\u001b[0m\u001b[0mformat\u001b[0m\u001b[0;34m(\u001b[0m\u001b[0mpolicy\u001b[0m\u001b[0;34m,\u001b[0m \u001b[0myear\u001b[0m\u001b[0;34m)\u001b[0m\u001b[0;34m]\u001b[0m\u001b[0;34m)\u001b[0m\u001b[0;34m.\u001b[0m\u001b[0mloc\u001b[0m\u001b[0;34m[\u001b[0m\u001b[0myear\u001b[0m\u001b[0;34m]\u001b[0m \u001b[0;32mfor\u001b[0m \u001b[0myear\u001b[0m \u001b[0;32min\u001b[0m \u001b[0mlist_years\u001b[0m\u001b[0;34m]\u001b[0m\u001b[0;34m,\u001b[0m \u001b[0mindex\u001b[0m\u001b[0;34m=\u001b[0m\u001b[0mlist_years\u001b[0m\u001b[0;34m)\u001b[0m\u001b[0;34m\u001b[0m\u001b[0;34m\u001b[0m\u001b[0m\n\u001b[0m",
      "\u001b[0;32m~/opt/anaconda3/lib/python3.7/site-packages/pandas/core/frame.py\u001b[0m in \u001b[0;36m__getitem__\u001b[0;34m(self, key)\u001b[0m\n\u001b[1;32m   3022\u001b[0m             \u001b[0;32mif\u001b[0m \u001b[0mself\u001b[0m\u001b[0;34m.\u001b[0m\u001b[0mcolumns\u001b[0m\u001b[0;34m.\u001b[0m\u001b[0mnlevels\u001b[0m \u001b[0;34m>\u001b[0m \u001b[0;36m1\u001b[0m\u001b[0;34m:\u001b[0m\u001b[0;34m\u001b[0m\u001b[0;34m\u001b[0m\u001b[0m\n\u001b[1;32m   3023\u001b[0m                 \u001b[0;32mreturn\u001b[0m \u001b[0mself\u001b[0m\u001b[0;34m.\u001b[0m\u001b[0m_getitem_multilevel\u001b[0m\u001b[0;34m(\u001b[0m\u001b[0mkey\u001b[0m\u001b[0;34m)\u001b[0m\u001b[0;34m\u001b[0m\u001b[0;34m\u001b[0m\u001b[0m\n\u001b[0;32m-> 3024\u001b[0;31m             \u001b[0mindexer\u001b[0m \u001b[0;34m=\u001b[0m \u001b[0mself\u001b[0m\u001b[0;34m.\u001b[0m\u001b[0mcolumns\u001b[0m\u001b[0;34m.\u001b[0m\u001b[0mget_loc\u001b[0m\u001b[0;34m(\u001b[0m\u001b[0mkey\u001b[0m\u001b[0;34m)\u001b[0m\u001b[0;34m\u001b[0m\u001b[0;34m\u001b[0m\u001b[0m\n\u001b[0m\u001b[1;32m   3025\u001b[0m             \u001b[0;32mif\u001b[0m \u001b[0mis_integer\u001b[0m\u001b[0;34m(\u001b[0m\u001b[0mindexer\u001b[0m\u001b[0;34m)\u001b[0m\u001b[0;34m:\u001b[0m\u001b[0;34m\u001b[0m\u001b[0;34m\u001b[0m\u001b[0m\n\u001b[1;32m   3026\u001b[0m                 \u001b[0mindexer\u001b[0m \u001b[0;34m=\u001b[0m \u001b[0;34m[\u001b[0m\u001b[0mindexer\u001b[0m\u001b[0;34m]\u001b[0m\u001b[0;34m\u001b[0m\u001b[0;34m\u001b[0m\u001b[0m\n",
      "\u001b[0;32m~/opt/anaconda3/lib/python3.7/site-packages/pandas/core/indexes/base.py\u001b[0m in \u001b[0;36mget_loc\u001b[0;34m(self, key, method, tolerance)\u001b[0m\n\u001b[1;32m   3081\u001b[0m                 \u001b[0;32mreturn\u001b[0m \u001b[0mself\u001b[0m\u001b[0;34m.\u001b[0m\u001b[0m_engine\u001b[0m\u001b[0;34m.\u001b[0m\u001b[0mget_loc\u001b[0m\u001b[0;34m(\u001b[0m\u001b[0mcasted_key\u001b[0m\u001b[0;34m)\u001b[0m\u001b[0;34m\u001b[0m\u001b[0;34m\u001b[0m\u001b[0m\n\u001b[1;32m   3082\u001b[0m             \u001b[0;32mexcept\u001b[0m \u001b[0mKeyError\u001b[0m \u001b[0;32mas\u001b[0m \u001b[0merr\u001b[0m\u001b[0;34m:\u001b[0m\u001b[0;34m\u001b[0m\u001b[0;34m\u001b[0m\u001b[0m\n\u001b[0;32m-> 3083\u001b[0;31m                 \u001b[0;32mraise\u001b[0m \u001b[0mKeyError\u001b[0m\u001b[0;34m(\u001b[0m\u001b[0mkey\u001b[0m\u001b[0;34m)\u001b[0m \u001b[0;32mfrom\u001b[0m \u001b[0merr\u001b[0m\u001b[0;34m\u001b[0m\u001b[0;34m\u001b[0m\u001b[0m\n\u001b[0m\u001b[1;32m   3084\u001b[0m \u001b[0;34m\u001b[0m\u001b[0m\n\u001b[1;32m   3085\u001b[0m         \u001b[0;32mif\u001b[0m \u001b[0mtolerance\u001b[0m \u001b[0;32mis\u001b[0m \u001b[0;32mnot\u001b[0m \u001b[0;32mNone\u001b[0m\u001b[0;34m:\u001b[0m\u001b[0;34m\u001b[0m\u001b[0;34m\u001b[0m\u001b[0m\n",
      "\u001b[0;31mKeyError\u001b[0m: 'Standard'"
     ]
    }
   ],
   "source": [
    "df = summaries['Consumption actual (kWh)'].copy()\n",
    "list_years = [int(re.search(\"20[0-9][0-9]\", column)[0]) for column in df.columns if re.search(\"20[0-9][0-9]\", column)]\n",
    "marginal_consumption_actual = pd.Series([(df['Standard'] - df['{}-{}'.format(policy, year)]).loc[year] for year in list_years], index=list_years)"
   ]
  },
  {
   "cell_type": "code",
   "execution_count": 25,
   "id": "57e26edf",
   "metadata": {},
   "outputs": [
    {
     "ename": "KeyError",
     "evalue": "'Standard'",
     "output_type": "error",
     "traceback": [
      "\u001b[0;31m---------------------------------------------------------------------------\u001b[0m",
      "\u001b[0;31mKeyError\u001b[0m                                  Traceback (most recent call last)",
      "\u001b[0;32m~/opt/anaconda3/lib/python3.7/site-packages/pandas/core/indexes/base.py\u001b[0m in \u001b[0;36mget_loc\u001b[0;34m(self, key, method, tolerance)\u001b[0m\n\u001b[1;32m   3080\u001b[0m             \u001b[0;32mtry\u001b[0m\u001b[0;34m:\u001b[0m\u001b[0;34m\u001b[0m\u001b[0;34m\u001b[0m\u001b[0m\n\u001b[0;32m-> 3081\u001b[0;31m                 \u001b[0;32mreturn\u001b[0m \u001b[0mself\u001b[0m\u001b[0;34m.\u001b[0m\u001b[0m_engine\u001b[0m\u001b[0;34m.\u001b[0m\u001b[0mget_loc\u001b[0m\u001b[0;34m(\u001b[0m\u001b[0mcasted_key\u001b[0m\u001b[0;34m)\u001b[0m\u001b[0;34m\u001b[0m\u001b[0;34m\u001b[0m\u001b[0m\n\u001b[0m\u001b[1;32m   3082\u001b[0m             \u001b[0;32mexcept\u001b[0m \u001b[0mKeyError\u001b[0m \u001b[0;32mas\u001b[0m \u001b[0merr\u001b[0m\u001b[0;34m:\u001b[0m\u001b[0;34m\u001b[0m\u001b[0;34m\u001b[0m\u001b[0m\n",
      "\u001b[0;32mpandas/_libs/index.pyx\u001b[0m in \u001b[0;36mpandas._libs.index.IndexEngine.get_loc\u001b[0;34m()\u001b[0m\n",
      "\u001b[0;32mpandas/_libs/index.pyx\u001b[0m in \u001b[0;36mpandas._libs.index.IndexEngine.get_loc\u001b[0;34m()\u001b[0m\n",
      "\u001b[0;32mpandas/_libs/hashtable_class_helper.pxi\u001b[0m in \u001b[0;36mpandas._libs.hashtable.PyObjectHashTable.get_item\u001b[0;34m()\u001b[0m\n",
      "\u001b[0;32mpandas/_libs/hashtable_class_helper.pxi\u001b[0m in \u001b[0;36mpandas._libs.hashtable.PyObjectHashTable.get_item\u001b[0;34m()\u001b[0m\n",
      "\u001b[0;31mKeyError\u001b[0m: 'Standard'",
      "\nThe above exception was the direct cause of the following exception:\n",
      "\u001b[0;31mKeyError\u001b[0m                                  Traceback (most recent call last)",
      "\u001b[0;32m<ipython-input-25-8a0ab5ee6334>\u001b[0m in \u001b[0;36m<module>\u001b[0;34m\u001b[0m\n\u001b[1;32m      1\u001b[0m \u001b[0mdf\u001b[0m \u001b[0;34m=\u001b[0m \u001b[0msummaries\u001b[0m\u001b[0;34m[\u001b[0m\u001b[0;34m'Consumption conventional (kWh)'\u001b[0m\u001b[0;34m]\u001b[0m\u001b[0;34m.\u001b[0m\u001b[0mcopy\u001b[0m\u001b[0;34m(\u001b[0m\u001b[0;34m)\u001b[0m\u001b[0;34m\u001b[0m\u001b[0;34m\u001b[0m\u001b[0m\n\u001b[1;32m      2\u001b[0m \u001b[0mlist_years\u001b[0m \u001b[0;34m=\u001b[0m \u001b[0;34m[\u001b[0m\u001b[0mint\u001b[0m\u001b[0;34m(\u001b[0m\u001b[0mre\u001b[0m\u001b[0;34m.\u001b[0m\u001b[0msearch\u001b[0m\u001b[0;34m(\u001b[0m\u001b[0;34m\"20[0-9][0-9]\"\u001b[0m\u001b[0;34m,\u001b[0m \u001b[0mcolumn\u001b[0m\u001b[0;34m)\u001b[0m\u001b[0;34m[\u001b[0m\u001b[0;36m0\u001b[0m\u001b[0;34m]\u001b[0m\u001b[0;34m)\u001b[0m \u001b[0;32mfor\u001b[0m \u001b[0mcolumn\u001b[0m \u001b[0;32min\u001b[0m \u001b[0mdf\u001b[0m\u001b[0;34m.\u001b[0m\u001b[0mcolumns\u001b[0m \u001b[0;32mif\u001b[0m \u001b[0mre\u001b[0m\u001b[0;34m.\u001b[0m\u001b[0msearch\u001b[0m\u001b[0;34m(\u001b[0m\u001b[0;34m\"20[0-9][0-9]\"\u001b[0m\u001b[0;34m,\u001b[0m \u001b[0mcolumn\u001b[0m\u001b[0;34m)\u001b[0m\u001b[0;34m]\u001b[0m\u001b[0;34m\u001b[0m\u001b[0;34m\u001b[0m\u001b[0m\n\u001b[0;32m----> 3\u001b[0;31m \u001b[0mmarginal_consumption_conventional\u001b[0m \u001b[0;34m=\u001b[0m \u001b[0mpd\u001b[0m\u001b[0;34m.\u001b[0m\u001b[0mSeries\u001b[0m\u001b[0;34m(\u001b[0m\u001b[0;34m[\u001b[0m\u001b[0;34m(\u001b[0m\u001b[0mdf\u001b[0m\u001b[0;34m[\u001b[0m\u001b[0;34m'Standard'\u001b[0m\u001b[0;34m]\u001b[0m \u001b[0;34m-\u001b[0m \u001b[0mdf\u001b[0m\u001b[0;34m[\u001b[0m\u001b[0;34m'{}-{}'\u001b[0m\u001b[0;34m.\u001b[0m\u001b[0mformat\u001b[0m\u001b[0;34m(\u001b[0m\u001b[0mpolicy\u001b[0m\u001b[0;34m,\u001b[0m \u001b[0myear\u001b[0m\u001b[0;34m)\u001b[0m\u001b[0;34m]\u001b[0m\u001b[0;34m)\u001b[0m\u001b[0;34m.\u001b[0m\u001b[0mloc\u001b[0m\u001b[0;34m[\u001b[0m\u001b[0myear\u001b[0m\u001b[0;34m]\u001b[0m \u001b[0;32mfor\u001b[0m \u001b[0myear\u001b[0m \u001b[0;32min\u001b[0m \u001b[0mlist_years\u001b[0m\u001b[0;34m]\u001b[0m\u001b[0;34m,\u001b[0m \u001b[0mindex\u001b[0m\u001b[0;34m=\u001b[0m\u001b[0mlist_years\u001b[0m\u001b[0;34m)\u001b[0m\u001b[0;34m\u001b[0m\u001b[0;34m\u001b[0m\u001b[0m\n\u001b[0m",
      "\u001b[0;32m<ipython-input-25-8a0ab5ee6334>\u001b[0m in \u001b[0;36m<listcomp>\u001b[0;34m(.0)\u001b[0m\n\u001b[1;32m      1\u001b[0m \u001b[0mdf\u001b[0m \u001b[0;34m=\u001b[0m \u001b[0msummaries\u001b[0m\u001b[0;34m[\u001b[0m\u001b[0;34m'Consumption conventional (kWh)'\u001b[0m\u001b[0;34m]\u001b[0m\u001b[0;34m.\u001b[0m\u001b[0mcopy\u001b[0m\u001b[0;34m(\u001b[0m\u001b[0;34m)\u001b[0m\u001b[0;34m\u001b[0m\u001b[0;34m\u001b[0m\u001b[0m\n\u001b[1;32m      2\u001b[0m \u001b[0mlist_years\u001b[0m \u001b[0;34m=\u001b[0m \u001b[0;34m[\u001b[0m\u001b[0mint\u001b[0m\u001b[0;34m(\u001b[0m\u001b[0mre\u001b[0m\u001b[0;34m.\u001b[0m\u001b[0msearch\u001b[0m\u001b[0;34m(\u001b[0m\u001b[0;34m\"20[0-9][0-9]\"\u001b[0m\u001b[0;34m,\u001b[0m \u001b[0mcolumn\u001b[0m\u001b[0;34m)\u001b[0m\u001b[0;34m[\u001b[0m\u001b[0;36m0\u001b[0m\u001b[0;34m]\u001b[0m\u001b[0;34m)\u001b[0m \u001b[0;32mfor\u001b[0m \u001b[0mcolumn\u001b[0m \u001b[0;32min\u001b[0m \u001b[0mdf\u001b[0m\u001b[0;34m.\u001b[0m\u001b[0mcolumns\u001b[0m \u001b[0;32mif\u001b[0m \u001b[0mre\u001b[0m\u001b[0;34m.\u001b[0m\u001b[0msearch\u001b[0m\u001b[0;34m(\u001b[0m\u001b[0;34m\"20[0-9][0-9]\"\u001b[0m\u001b[0;34m,\u001b[0m \u001b[0mcolumn\u001b[0m\u001b[0;34m)\u001b[0m\u001b[0;34m]\u001b[0m\u001b[0;34m\u001b[0m\u001b[0;34m\u001b[0m\u001b[0m\n\u001b[0;32m----> 3\u001b[0;31m \u001b[0mmarginal_consumption_conventional\u001b[0m \u001b[0;34m=\u001b[0m \u001b[0mpd\u001b[0m\u001b[0;34m.\u001b[0m\u001b[0mSeries\u001b[0m\u001b[0;34m(\u001b[0m\u001b[0;34m[\u001b[0m\u001b[0;34m(\u001b[0m\u001b[0mdf\u001b[0m\u001b[0;34m[\u001b[0m\u001b[0;34m'Standard'\u001b[0m\u001b[0;34m]\u001b[0m \u001b[0;34m-\u001b[0m \u001b[0mdf\u001b[0m\u001b[0;34m[\u001b[0m\u001b[0;34m'{}-{}'\u001b[0m\u001b[0;34m.\u001b[0m\u001b[0mformat\u001b[0m\u001b[0;34m(\u001b[0m\u001b[0mpolicy\u001b[0m\u001b[0;34m,\u001b[0m \u001b[0myear\u001b[0m\u001b[0;34m)\u001b[0m\u001b[0;34m]\u001b[0m\u001b[0;34m)\u001b[0m\u001b[0;34m.\u001b[0m\u001b[0mloc\u001b[0m\u001b[0;34m[\u001b[0m\u001b[0myear\u001b[0m\u001b[0;34m]\u001b[0m \u001b[0;32mfor\u001b[0m \u001b[0myear\u001b[0m \u001b[0;32min\u001b[0m \u001b[0mlist_years\u001b[0m\u001b[0;34m]\u001b[0m\u001b[0;34m,\u001b[0m \u001b[0mindex\u001b[0m\u001b[0;34m=\u001b[0m\u001b[0mlist_years\u001b[0m\u001b[0;34m)\u001b[0m\u001b[0;34m\u001b[0m\u001b[0;34m\u001b[0m\u001b[0m\n\u001b[0m",
      "\u001b[0;32m~/opt/anaconda3/lib/python3.7/site-packages/pandas/core/frame.py\u001b[0m in \u001b[0;36m__getitem__\u001b[0;34m(self, key)\u001b[0m\n\u001b[1;32m   3022\u001b[0m             \u001b[0;32mif\u001b[0m \u001b[0mself\u001b[0m\u001b[0;34m.\u001b[0m\u001b[0mcolumns\u001b[0m\u001b[0;34m.\u001b[0m\u001b[0mnlevels\u001b[0m \u001b[0;34m>\u001b[0m \u001b[0;36m1\u001b[0m\u001b[0;34m:\u001b[0m\u001b[0;34m\u001b[0m\u001b[0;34m\u001b[0m\u001b[0m\n\u001b[1;32m   3023\u001b[0m                 \u001b[0;32mreturn\u001b[0m \u001b[0mself\u001b[0m\u001b[0;34m.\u001b[0m\u001b[0m_getitem_multilevel\u001b[0m\u001b[0;34m(\u001b[0m\u001b[0mkey\u001b[0m\u001b[0;34m)\u001b[0m\u001b[0;34m\u001b[0m\u001b[0;34m\u001b[0m\u001b[0m\n\u001b[0;32m-> 3024\u001b[0;31m             \u001b[0mindexer\u001b[0m \u001b[0;34m=\u001b[0m \u001b[0mself\u001b[0m\u001b[0;34m.\u001b[0m\u001b[0mcolumns\u001b[0m\u001b[0;34m.\u001b[0m\u001b[0mget_loc\u001b[0m\u001b[0;34m(\u001b[0m\u001b[0mkey\u001b[0m\u001b[0;34m)\u001b[0m\u001b[0;34m\u001b[0m\u001b[0;34m\u001b[0m\u001b[0m\n\u001b[0m\u001b[1;32m   3025\u001b[0m             \u001b[0;32mif\u001b[0m \u001b[0mis_integer\u001b[0m\u001b[0;34m(\u001b[0m\u001b[0mindexer\u001b[0m\u001b[0;34m)\u001b[0m\u001b[0;34m:\u001b[0m\u001b[0;34m\u001b[0m\u001b[0;34m\u001b[0m\u001b[0m\n\u001b[1;32m   3026\u001b[0m                 \u001b[0mindexer\u001b[0m \u001b[0;34m=\u001b[0m \u001b[0;34m[\u001b[0m\u001b[0mindexer\u001b[0m\u001b[0;34m]\u001b[0m\u001b[0;34m\u001b[0m\u001b[0;34m\u001b[0m\u001b[0m\n",
      "\u001b[0;32m~/opt/anaconda3/lib/python3.7/site-packages/pandas/core/indexes/base.py\u001b[0m in \u001b[0;36mget_loc\u001b[0;34m(self, key, method, tolerance)\u001b[0m\n\u001b[1;32m   3081\u001b[0m                 \u001b[0;32mreturn\u001b[0m \u001b[0mself\u001b[0m\u001b[0;34m.\u001b[0m\u001b[0m_engine\u001b[0m\u001b[0;34m.\u001b[0m\u001b[0mget_loc\u001b[0m\u001b[0;34m(\u001b[0m\u001b[0mcasted_key\u001b[0m\u001b[0;34m)\u001b[0m\u001b[0;34m\u001b[0m\u001b[0;34m\u001b[0m\u001b[0m\n\u001b[1;32m   3082\u001b[0m             \u001b[0;32mexcept\u001b[0m \u001b[0mKeyError\u001b[0m \u001b[0;32mas\u001b[0m \u001b[0merr\u001b[0m\u001b[0;34m:\u001b[0m\u001b[0;34m\u001b[0m\u001b[0;34m\u001b[0m\u001b[0m\n\u001b[0;32m-> 3083\u001b[0;31m                 \u001b[0;32mraise\u001b[0m \u001b[0mKeyError\u001b[0m\u001b[0;34m(\u001b[0m\u001b[0mkey\u001b[0m\u001b[0;34m)\u001b[0m \u001b[0;32mfrom\u001b[0m \u001b[0merr\u001b[0m\u001b[0;34m\u001b[0m\u001b[0;34m\u001b[0m\u001b[0m\n\u001b[0m\u001b[1;32m   3084\u001b[0m \u001b[0;34m\u001b[0m\u001b[0m\n\u001b[1;32m   3085\u001b[0m         \u001b[0;32mif\u001b[0m \u001b[0mtolerance\u001b[0m \u001b[0;32mis\u001b[0m \u001b[0;32mnot\u001b[0m \u001b[0;32mNone\u001b[0m\u001b[0;34m:\u001b[0m\u001b[0;34m\u001b[0m\u001b[0;34m\u001b[0m\u001b[0m\n",
      "\u001b[0;31mKeyError\u001b[0m: 'Standard'"
     ]
    }
   ],
   "source": [
    "df = summaries['Consumption conventional (kWh)'].copy()\n",
    "list_years = [int(re.search(\"20[0-9][0-9]\", column)[0]) for column in df.columns if re.search(\"20[0-9][0-9]\", column)]\n",
    "marginal_consumption_conventional = pd.Series([(df['Standard'] - df['{}-{}'.format(policy, year)]).loc[year] for year in list_years], index=list_years)"
   ]
  },
  {
   "cell_type": "markdown",
   "id": "0ca89653",
   "metadata": {},
   "source": [
    "### Emission"
   ]
  },
  {
   "cell_type": "code",
   "execution_count": null,
   "id": "ba9118cd",
   "metadata": {},
   "outputs": [],
   "source": [
    "df = summaries['Emission (gCO2)'].copy()\n",
    "list_years = [int(re.search(\"20[0-9][0-9]\", column)[0]) for column in df.columns if re.search(\"20[0-9][0-9]\", column)]\n",
    "marginal_emission = pd.Series([(df['Standard'] - df['{}-{}'.format(policy, year)]).loc[year] for year in list_years], index=list_years)"
   ]
  },
  {
   "cell_type": "markdown",
   "id": "668a73a6",
   "metadata": {},
   "source": [
    "### Policy cost"
   ]
  },
  {
   "cell_type": "code",
   "execution_count": null,
   "id": "74ccc879",
   "metadata": {},
   "outputs": [],
   "source": [
    "df = summaries['Reduced tax (€)'].copy()\n",
    "df.fillna(0, inplace=True)\n",
    "list_years = [int(re.search(\"20[0-9][0-9]\", column)[0]) for column in df.columns if re.search(\"20[0-9][0-9]\", column)]\n",
    "marginal_subsidies = pd.Series([(df['Standard'] - df['{}-{}'.format(policy, year)]).loc[year] for year in list_years], index=list_years)"
   ]
  },
  {
   "cell_type": "markdown",
   "id": "9eaab20e",
   "metadata": {},
   "source": [
    "### Extension of energy and emission savings\n",
    "\n",
    "Using a discount rate of 4% and a lifetime of 26 years, which corresponds to the average of the operations carried out within the framework of the CEE on the perimeter of the residential building, the factor $FA$ is\n",
    "taken equal to 16.6."
   ]
  },
  {
   "cell_type": "code",
   "execution_count": null,
   "id": "ef1b40ef",
   "metadata": {},
   "outputs": [],
   "source": [
    "discount_rate = 0.04\n",
    "lifetime = 26\n",
    "discount_factor = discount_factor = (1 - (1 + discount_rate) ** -lifetime) / discount_rate\n",
    "print('Discount factor: {:.1f}'.format(discount_factor))"
   ]
  },
  {
   "cell_type": "markdown",
   "id": "4356e848",
   "metadata": {},
   "source": [
    "### Results"
   ]
  },
  {
   "cell_type": "code",
   "execution_count": null,
   "id": "1c8ffe00",
   "metadata": {},
   "outputs": [],
   "source": [
    "cost_effectivness = abs(pd.concat((marginal_subsidies / (marginal_consumption_actual * discount_factor), marginal_subsidies / (marginal_consumption_conventional * discount_factor)), axis=1))\n",
    "cost_effectivness.columns = ['Actual', 'Conventional']\n",
    "cost_effectivness.sort_index(inplace=True)\n",
    "print(cost_effectivness)         "
   ]
  },
  {
   "cell_type": "markdown",
   "id": "7ae78057",
   "metadata": {},
   "source": [
    "## Leverage effect\n",
    "\n",
    "The leverage effect $EL$ relates the efficiency of the instrument, measured in terms of investment expenses, to the cost of the incentive. A leverage effect of 1 implies that one euro of public money (grant expenditure or tax revenue) induces an additional investment of one euro.\n",
    "\n",
    "\n",
    "The formula used applies to all participants and relates the cost of the incentive to the surplus of investment $\\Delta Inv$ induced by the policy, measured as the difference between two scenarios with the incentive absent or present in year $t$ (but in both cases present until year $t-1$):\n",
    "$$EL_t = \\frac{\\Delta Inv_t}{Incitation_t}$$\n"
   ]
  },
  {
   "cell_type": "code",
   "execution_count": null,
   "id": "bf9738ed",
   "metadata": {},
   "outputs": [],
   "source": [
    "df = summaries['Capex renovation (€)'].copy()\n",
    "df.fillna(0, inplace=True)\n",
    "list_years = [int(re.search(\"20[0-9][0-9]\", column)[0]) for column in df.columns if re.search(\"20[0-9][0-9]\", column)]\n",
    "marginal_investment = pd.Series([(df['Standard'] - df['{}-{}'.format(policy, year)]).loc[year] for year in list_years], index=list_years)"
   ]
  },
  {
   "cell_type": "code",
   "execution_count": null,
   "id": "014378bd",
   "metadata": {},
   "outputs": [],
   "source": [
    "leverage = marginal_investment / marginal_subsidies\n",
    "leverage.sort_index(inplace=True)\n",
    "print(leverage)"
   ]
  },
  {
   "cell_type": "markdown",
   "id": "664fb0e6",
   "metadata": {},
   "source": [
    "# Goals\n",
    "Objectives are based on stock output (aggregated and segmented) and transition output.\n",
    "\n",
    "1. Reduction of **final energy consumption by 20% by 2030** and **50% by 2050** compared to 2012 - this objective is applied here to residential heating consumption;\n",
    "2. Energy renovation of **500,000 homes per year**, including 120,000 in social housing;\n",
    "3. Disappearance of **G and F** energy performance housing **by 2025**;\n",
    "4. Renovation of the **entire housing stock** to the \"low-energy building\" level or similar **by 2050**- a requirement interpreted here as a minimum performance equal to the B label of the DPE;\n",
    "5. Reducing **fuel poverty by 15% by 2020**."
   ]
  },
  {
   "cell_type": "code",
   "execution_count": null,
   "id": "5174d467",
   "metadata": {},
   "outputs": [],
   "source": [
    "policy = 'CITE'"
   ]
  },
  {
   "cell_type": "markdown",
   "id": "63af2d43",
   "metadata": {},
   "source": [
    "Objective is to estimate the impact of policies on some variable like the energy consumption or C02 emissions.  \n",
    "Method consists to compare a scenario with the policy to a scenario without the policy.  \n",
    "However, some variables persist over time, like energy consumption. Investing in renovation will create energy savings for more than 30 years.  \n",
    "As the model will not consider the end, variables values need to be extended."
   ]
  },
  {
   "cell_type": "markdown",
   "id": "017bfd1c",
   "metadata": {},
   "source": [
    "## Energy saving"
   ]
  },
  {
   "cell_type": "code",
   "execution_count": null,
   "id": "74584426",
   "metadata": {},
   "outputs": [],
   "source": [
    "df = pd.concat((summaries['Consumption actual (kWh)']['Standard'], summaries['Consumption actual (kWh)']['{}-1'.format(policy)]), axis=1) / 10**9"
   ]
  },
  {
   "cell_type": "code",
   "execution_count": null,
   "id": "55b957c2",
   "metadata": {},
   "outputs": [],
   "source": [
    "simple_pd_plot(df, 'Years', 'Consumption actual (TWh)')"
   ]
  },
  {
   "cell_type": "markdown",
   "id": "f083ebc5",
   "metadata": {},
   "source": [
    "### Simple difference\n",
    "Need to be extented after the end of last studied year, as investment duration is larger than the sudies duration.  \n",
    "With this method, it's not possible to precisely estimate how long difference should be extended. \n",
    "If investment duration is 30 years.  \n",
    "- renovations that occur first (in 2019) need to be extended by 10 years at the end of the study.   \n",
    "- late renovations (in 2039) need to be extended by 30 years at the end of the study.  \n"
   ]
  },
  {
   "cell_type": "code",
   "execution_count": null,
   "id": "8b101332",
   "metadata": {},
   "outputs": [],
   "source": [
    "simple_diff = df['Standard'] - df['{}-1'.format(pre)]\n",
    "simple_pd_plot(simple_diff, 'Years', 'Energy saving (TWh)')"
   ]
  },
  {
   "cell_type": "markdown",
   "id": "6a2e99a5",
   "metadata": {},
   "source": [
    "### Double difference\n",
    "Renovations differences between 2 scenarios are responsible for marginal energy consumption difference.\n",
    "Renovations last n years from the time investment is made so we can estimate total energy saving.\n",
    "\n",
    "However, as energy prices and households available income evolve, heating intensity change.  \n",
    "Energy saving of one renovation will also evolve, yet we neglect this, as the degradation of equipment.\n",
    "\n",
    "\n",
    "- The marginal effect of an increase in income on the heating intensity is independent from conventional energy consumption."
   ]
  },
  {
   "cell_type": "code",
   "execution_count": null,
   "id": "cc12c14e",
   "metadata": {},
   "outputs": [],
   "source": [
    "double_diff = simple_diff.diff()\n",
    "double_diff.iloc[0] = simple_dif.iloc[0]\n",
    "simple_pd_plot(double_diff, 'Years', 'Marginal energy saving (TWh)')"
   ]
  },
  {
   "cell_type": "code",
   "execution_count": null,
   "id": "5205cd49",
   "metadata": {},
   "outputs": [],
   "source": [
    "discount_rate = 0.04\n",
    "lifetime = 26\n",
    "discount_factor = discount_factor = (1 - (1 + discount_rate) ** -lifetime) / discount_rate\n",
    "print('Discount factor: {:.1f}'.format(discount_factor))"
   ]
  },
  {
   "cell_type": "code",
   "execution_count": null,
   "id": "6350c023",
   "metadata": {},
   "outputs": [],
   "source": [
    "energy_saving = - (double_diff * discount_factor).sum()\n",
    "print('Energy saving: {:.2f} TWh'.format(energy_saving))"
   ]
  },
  {
   "cell_type": "markdown",
   "id": "4bc80f1d",
   "metadata": {},
   "source": [
    "## Buildings revovation"
   ]
  },
  {
   "cell_type": "code",
   "execution_count": null,
   "id": "dfb9318d",
   "metadata": {},
   "outputs": [],
   "source": [
    "df = pd.concat((summaries['Flow transition renovation']['Standard'], summaries['Flow transition renovation']['{}-1'.format(policy)]), axis=1) / 10**3\n",
    "\n"
   ]
  },
  {
   "cell_type": "code",
   "execution_count": null,
   "id": "8e28fba4",
   "metadata": {},
   "outputs": [],
   "source": [
    "simple_pd_plot(df, 'Years', 'Flow renovation (Thousands)')\n",
    "simple_pd_plot(df.cumsum(), 'Years', 'Cumulated number of renovation (Thousands)')"
   ]
  },
  {
   "cell_type": "markdown",
   "id": "28afc258",
   "metadata": {},
   "source": [
    "### Policy marginal effect on buildings retrofit"
   ]
  },
  {
   "cell_type": "code",
   "execution_count": null,
   "id": "a26ef785",
   "metadata": {},
   "outputs": [],
   "source": [
    "simple_diff = df['Standard'] - df['{}-1'.format(policy)]\n",
    "simple_pd_plot(simple_diff, 'Years', 'Number of additional renovations (Thousands)')"
   ]
  },
  {
   "cell_type": "code",
   "execution_count": null,
   "id": "1acc4fdc",
   "metadata": {},
   "outputs": [],
   "source": [
    "additional_renovation = simple_diff.sum()\n",
    "mean_additional_renovation = simple_diff.mean()\n",
    "\n",
    "print('Additional renovations: {:.0f}k'.format(additional_renovation))\n",
    "print('Mean additional renovations by year: {:.0f}k/yr'.format(mean_additional_renovation))"
   ]
  },
  {
   "cell_type": "markdown",
   "id": "8c10b67f",
   "metadata": {},
   "source": [
    "## G and F buildings in 2025"
   ]
  },
  {
   "cell_type": "code",
   "execution_count": null,
   "id": "25c6f73f",
   "metadata": {},
   "outputs": [],
   "source": [
    "df = (detailed['Stock F (Thousands)'] + detailed['Stock G (Thousands)']).loc[:, ['Standard', '{}-1'.format(policy)]] / 10**3\n",
    "simple_pd_plot(df, 'Years', 'F and G buildings (Millions)')\n"
   ]
  },
  {
   "cell_type": "markdown",
   "id": "e03edc24",
   "metadata": {},
   "source": [
    "### Share of F and G buildings in the total buildings stock"
   ]
  },
  {
   "cell_type": "code",
   "execution_count": null,
   "id": "28ad1256",
   "metadata": {},
   "outputs": [],
   "source": [
    "df = (df * 10**3 / detailed['Stock (Thousands)']).loc[:, ['Standard', '{}-1'.format(policy)]]\n",
    "simple_pd_plot(df, 'Years', 'Share of F and G buildings')"
   ]
  },
  {
   "cell_type": "markdown",
   "id": "37f5d234",
   "metadata": {},
   "source": [
    "### Policy marginal effect on F and G buildings"
   ]
  },
  {
   "cell_type": "code",
   "execution_count": null,
   "id": "85546029",
   "metadata": {},
   "outputs": [],
   "source": [
    "simple_diff = df['Standard'] - df['{}-1'.format(policy)]\n",
    "simple_pd_plot(simple_diff, 'Years', 'Marginal F and G buildings decrease (%)')"
   ]
  },
  {
   "cell_type": "code",
   "execution_count": null,
   "id": "2d3908d4",
   "metadata": {},
   "outputs": [],
   "source": [
    "share_high_energy_buildings = - simple_diff.iloc[-1]\n",
    "print('Marginal decreased of F and G buildings share: {:.2%}'.format(share_high_energy_buildings))"
   ]
  },
  {
   "cell_type": "markdown",
   "id": "8f86c86e",
   "metadata": {},
   "source": [
    "## Entire housing stock to the \"low-energy building\" level or similar by 2050"
   ]
  },
  {
   "cell_type": "code",
   "execution_count": null,
   "id": "316d092e",
   "metadata": {},
   "outputs": [],
   "source": [
    "df = detailed['Stock G (Thousands)'] + detailed['Stock F (Thousands)'] + detailed['Stock E (Thousands)'] + detailed['Stock D (Thousands)'] + detailed['Stock C (Thousands)']\n",
    "df = detailed['Stock (Thousands)'] - df\n",
    "df = df.loc[:, ['Standard', '{}-1'.format(policy)]] / 10**3\n",
    "\n",
    "simple_pd_plot(df, 'Years', 'Number of low energy buildings (Millions)')"
   ]
  },
  {
   "cell_type": "markdown",
   "id": "39398ed7",
   "metadata": {},
   "source": [
    "### Share of 'low-energy-building' in the total buildings stock."
   ]
  },
  {
   "cell_type": "code",
   "execution_count": null,
   "id": "37974e2d",
   "metadata": {},
   "outputs": [],
   "source": [
    "df = (df * 10**3 / detailed['Stock (Thousands)'].loc[:, ['Standard', '{}-1'.format(policy)]])\n",
    "simple_pd_plot(df, 'Years', 'Share of low energy buildings (%)')"
   ]
  },
  {
   "cell_type": "markdown",
   "id": "e6d293f2",
   "metadata": {},
   "source": [
    "### Policy marginal effect on 'low energy building'"
   ]
  },
  {
   "cell_type": "code",
   "execution_count": null,
   "id": "452eb3f3",
   "metadata": {},
   "outputs": [],
   "source": [
    "simple_diff = df['Standard'] - df['{}-1'.format(policy)]\n",
    "simple_pd_plot(simple_diff, 'Years', 'Additional share of low energy buildings (%)')"
   ]
  },
  {
   "cell_type": "code",
   "execution_count": null,
   "id": "2862d4cb",
   "metadata": {},
   "outputs": [],
   "source": [
    "share_low_energy_buildings = simple_diff.iloc[-1]\n",
    "print('Marginal increased of low energy buildings: {:.2%}'.format(share_low_energy_buildings))"
   ]
  },
  {
   "cell_type": "markdown",
   "id": "e426df58",
   "metadata": {},
   "source": [
    "## Reducing fuel poverty by 15% by 2020"
   ]
  },
  {
   "cell_type": "code",
   "execution_count": null,
   "id": "378347e6",
   "metadata": {},
   "outputs": [],
   "source": [
    "df = summaries['Energy poverty'].loc[:, ['Standard', '{}-1'.format(policy)]] / 10**6\n",
    "simple_pd_plot(df, 'Years', 'Number of fuel poverty buildings (Millions)')"
   ]
  },
  {
   "cell_type": "markdown",
   "id": "9d3ebe86",
   "metadata": {},
   "source": [
    "### Share of 'fuel poverty' buildings in the total buildings stock"
   ]
  },
  {
   "cell_type": "code",
   "execution_count": null,
   "id": "46b2608d",
   "metadata": {},
   "outputs": [],
   "source": [
    "df = (df * 10**6 / summaries['Stock'].loc[:, ['Standard', '{}-1'.format(policy)]])\n",
    "simple_pd_plot(df, 'Years', 'Share of low energy buildings (%)')"
   ]
  },
  {
   "cell_type": "markdown",
   "id": "937df9c9",
   "metadata": {},
   "source": [
    "### Simple diff"
   ]
  },
  {
   "cell_type": "code",
   "execution_count": null,
   "id": "64e8a00b",
   "metadata": {},
   "outputs": [],
   "source": [
    "simple_diff = df['Standard'] - df['{}-1'.format(policy)]\n",
    "simple_pd_plot(simple_diff, 'Years', 'Reducing number of fuel poverty buildings')"
   ]
  },
  {
   "cell_type": "markdown",
   "id": "f5c27553",
   "metadata": {},
   "source": [
    "### Policy marginal effect on energy poverty"
   ]
  },
  {
   "cell_type": "code",
   "execution_count": null,
   "id": "5ee7825e",
   "metadata": {},
   "outputs": [],
   "source": [
    "share_energy_poverty = - simple_diff.iloc[-1]\n",
    "print('Marginal decreased of energy poverty: {:.2%}'.format(share_energy_poverty))"
   ]
  },
  {
   "cell_type": "code",
   "execution_count": null,
   "id": "fa1bb461",
   "metadata": {},
   "outputs": [],
   "source": []
  }
 ],
 "metadata": {
  "kernelspec": {
   "display_name": "Python 3",
   "language": "python",
   "name": "python3"
  },
  "language_info": {
   "codemirror_mode": {
    "name": "ipython",
    "version": 3
   },
   "file_extension": ".py",
   "mimetype": "text/x-python",
   "name": "python",
   "nbconvert_exporter": "python",
   "pygments_lexer": "ipython3",
   "version": "3.7.10"
  }
 },
 "nbformat": 4,
 "nbformat_minor": 5
}
