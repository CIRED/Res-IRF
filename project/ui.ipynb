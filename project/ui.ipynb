{
 "cells": [
  {
   "cell_type": "code",
   "execution_count": null,
   "metadata": {
    "collapsed": true
   },
   "outputs": [],
   "source": [
    "import os\n",
    "\n",
    "print(os.getcwd())\n",
    "os.chdir(os.path.join(os.getcwd(), '..'))\n",
    "print(os.getcwd())\n",
    "\n",
    "import pickle\n",
    "from ui_utils import *\n",
    "import matplotlib.pyplot as plt\n",
    "\n",
    "from parse_input import colors_dict\n",
    "\n",
    "\n",
    "name_folder = os.path.join('20210629_171700', 'Standard')\n",
    "\n",
    "\n",
    "def to_macro(data, name, func, weighted=True, grouped=False, level=None):\n",
    "    \"\"\"Aggregate segmented value and returns macro data.\n",
    "\n",
    "    Parameters\n",
    "    ----------\n",
    "    weighted: bool, default True\n",
    "    func: {'sum', 'average'}\n",
    "\n",
    "    Returns\n",
    "    -------\n",
    "    float\n",
    "    \"\"\"\n",
    "    if grouped:\n",
    "        df = (data['Housing number'] * data[name]).groupby(level)\n",
    "    else:\n",
    "        df = data['Housing number'] * data[name]\n",
    "\n",
    "    if func == 'sum':\n",
    "        return df.sum()\n",
    "\n",
    "    if func == 'average' and weighted:\n",
    "        return df.sum() / data['Housing number']"
   ]
  }
 ],
 "metadata": {
  "kernelspec": {
   "display_name": "Python 3",
   "language": "python",
   "name": "python3"
  },
  "language_info": {
   "codemirror_mode": {
    "name": "ipython",
    "version": 2
   },
   "file_extension": ".py",
   "mimetype": "text/x-python",
   "name": "python",
   "nbconvert_exporter": "python",
   "pygments_lexer": "ipython2",
   "version": "2.7.6"
  }
 },
 "nbformat": 4,
 "nbformat_minor": 0
}