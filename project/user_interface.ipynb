{
 "cells": [
  {
   "cell_type": "markdown",
   "metadata": {
    "pycharm": {
     "name": "#%% md\n"
    }
   },
   "source": [
    "# User-Interface for Res-IRF\n",
    "The Res-IRF model is a tool for simulating energy consumption for space heating in the French residential sector.\n",
    "\n",
    "Its main characteristic is to integrate a detailed description of the energy performance of the dwelling stock with a rich description of household behaviour.\n",
    "\n",
    "This notebook is an example of post-treatment."
   ]
  },
  {
   "cell_type": "markdown",
   "metadata": {},
   "source": [
    "Variable used by this notebook:\n",
    "- cost intangible (to be done)\n",
    "- cost construction\n",
    "- cost envelope\n",
    "- stock segmented\n",
    "- stock construction segmented\n",
    "- consumption"
   ]
  },
  {
   "cell_type": "code",
   "execution_count": 1,
   "metadata": {},
   "outputs": [
    {
     "name": "stdout",
     "output_type": "stream",
     "text": [
      "/Users/lucas/PycharmProjects/Res-IRF/project\n",
      "/Users/lucas/PycharmProjects/Res-IRF\n"
     ]
    }
   ],
   "source": [
    "import os\n",
    "\n",
    "print(os.getcwd())\n",
    "os.chdir(os.path.join(os.getcwd(), '..'))\n",
    "print(os.getcwd())"
   ]
  },
  {
   "cell_type": "code",
   "execution_count": 2,
   "metadata": {
    "tags": []
   },
   "outputs": [],
   "source": [
    "import pickle\n",
    "from ui_utils import *\n",
    "import matplotlib.pyplot as plt\n",
    "\n",
    "from parse_input import colors_dict"
   ]
  },
  {
   "cell_type": "markdown",
   "metadata": {
    "pycharm": {
     "name": "#%% md\n"
    }
   },
   "source": [
    "**User need to enter folder's name:**"
   ]
  },
  {
   "cell_type": "code",
   "execution_count": 3,
   "metadata": {
    "collapsed": false,
    "jupyter": {
     "outputs_hidden": false
    },
    "pycharm": {
     "name": "#%%\n"
    }
   },
   "outputs": [],
   "source": [
    "# name_folder = '20210604_094019'\n",
    "name_folder = os.path.join('20210629_171700', 'Standard')\n"
   ]
  },
  {
   "cell_type": "markdown",
   "metadata": {},
   "source": [
    "# Reading input"
   ]
  },
  {
   "cell_type": "code",
   "execution_count": 4,
   "metadata": {
    "collapsed": false,
    "jupyter": {
     "outputs_hidden": false
    },
    "pycharm": {
     "name": "#%%\n"
    }
   },
   "outputs": [
    {
     "name": "stdout",
     "output_type": "stream",
     "text": [
      "Output will be taken from: /Users/lucas/PycharmProjects/Res-IRF/project/output/20210629_171700/Standard\n",
      "Reading: /Users/lucas/PycharmProjects/Res-IRF/project/output/20210629_171700/Standard/output_pkl/cost_intangible.pkl\n",
      "Reading: /Users/lucas/PycharmProjects/Res-IRF/project/output/20210629_171700/Standard/output_pkl/cost_construction.pkl\n",
      "Reading: /Users/lucas/PycharmProjects/Res-IRF/project/output/20210629_171700/Standard/output_pkl/cost_envelope.pkl\n",
      "Reading: /Users/lucas/PycharmProjects/Res-IRF/project/output/20210629_171700/Standard/output_pkl/stock_segmented.pkl\n",
      "Reading: /Users/lucas/PycharmProjects/Res-IRF/project/output/20210629_171700/Standard/output_pkl/stock_construction_segmented.pkl\n",
      "Reading: /Users/lucas/PycharmProjects/Res-IRF/project/output/20210629_171700/Standard/detailed/pkl/consumption_actual.pkl\n",
      "Reading: /Users/lucas/PycharmProjects/Res-IRF/project/output/20210629_171700/Standard/detailed/pkl/consumption_conventional.pkl\n",
      "Reading: /Users/lucas/PycharmProjects/Res-IRF/project/output/20210629_171700/Standard/detailed/pkl/consumption_final.pkl\n",
      "Reading: /Users/lucas/PycharmProjects/Res-IRF/project/output/20210629_171700/Standard/detailed/pkl/flow_renovation_label_energy_dict.pkl\n",
      "Reading: /Users/lucas/PycharmProjects/Res-IRF/project/output/20210629_171700/Standard/detailed/pkl/energy_cash_flows.pkl\n",
      "Reading: /Users/lucas/PycharmProjects/Res-IRF/project/output/20210629_171700/Standard/detailed/pkl/energy_lcc.pkl\n",
      "Reading: /Users/lucas/PycharmProjects/Res-IRF/project/output/20210629_171700/Standard/detailed/pkl/energy_lcc_final.pkl\n",
      "Reading: /Users/lucas/PycharmProjects/Res-IRF/project/output/20210629_171700/Standard/detailed/pkl/policies_detailed.pkl\n",
      "Reading: /Users/lucas/PycharmProjects/Res-IRF/project/output/20210629_171700/Standard/detailed/pkl/policies_total.pkl\n",
      "Reading: /Users/lucas/PycharmProjects/Res-IRF/project/output/20210629_171700/Standard/detailed/pkl/capex_total.pkl\n",
      "Reading: /Users/lucas/PycharmProjects/Res-IRF/project/output/20210629_171700/Standard/detailed/pkl/energy_saving.pkl\n",
      "Reading: /Users/lucas/PycharmProjects/Res-IRF/project/output/20210629_171700/Standard/detailed/pkl/emission_saving.pkl\n",
      "Reading: /Users/lucas/PycharmProjects/Res-IRF/project/output/20210629_171700/Standard/detailed/pkl/energy_saving_lc.pkl\n",
      "Reading: /Users/lucas/PycharmProjects/Res-IRF/project/output/20210629_171700/Standard/detailed/pkl/emission_saving_lc.pkl\n"
     ]
    }
   ],
   "source": [
    "folder_output = os.path.join(os.getcwd(), 'project', 'output', name_folder)\n",
    "print('Output will be taken from: {}'.format(folder_output))\n",
    "folder_output_pkl = os.path.join(folder_output, 'output_pkl')\n",
    "\n",
    "folder_detailed = os.path.join(folder_output, 'detailed')\n",
    "folder_detailed_pkl = os.path.join(folder_detailed, 'pkl')\n",
    "\n",
    "var_list = [\n",
    "    'cost_intangible',\n",
    "    'cost_construction',\n",
    "    'cost_envelope',\n",
    "    'stock_segmented',\n",
    "    'stock_construction_segmented'\n",
    "]\n",
    "var_dict = {}\n",
    "for key in var_list:\n",
    "    name_file = os.path.join(folder_output_pkl, '{}.pkl'.format(key))\n",
    "    with open(name_file, 'rb') as handle:\n",
    "        var_dict[key] = pickle.load(handle)\n",
    "        print('Reading: {}'.format(name_file))\n",
    "        \n",
    "var_detailed_dict = [\n",
    "    'consumption_actual',\n",
    "    'consumption_conventional',\n",
    "    'consumption_final',\n",
    "    'flow_renovation_label_energy_dict',\n",
    "    'energy_cash_flows',\n",
    "    'energy_lcc',\n",
    "    'energy_lcc_final',\n",
    "    'policies_detailed',\n",
    "    'policies_total',\n",
    "    'capex_total',\n",
    "    'energy_saving',\n",
    "    'emission_saving',\n",
    "    'energy_saving_lc',\n",
    "    'emission_saving_lc'\n",
    "]\n",
    "for key in var_detailed_dict:\n",
    "    name_file = os.path.join(folder_detailed_pkl, '{}.pkl'.format(key))\n",
    "    with open(name_file, 'rb') as handle:\n",
    "        var_dict[key] = pickle.load(handle)\n",
    "        print('Reading: {}'.format(name_file))\n",
    "\n",
    "       \n"
   ]
  },
  {
   "cell_type": "code",
   "execution_count": 5,
   "metadata": {},
   "outputs": [
    {
     "name": "stdout",
     "output_type": "stream",
     "text": [
      "Reading: /Users/lucas/PycharmProjects/Res-IRF/project/output/20210629_171700/Standard/detailed/result_euro_2023.csv\n",
      "Reading: /Users/lucas/PycharmProjects/Res-IRF/project/output/20210629_171700/Standard/detailed/result_euro_2022.csv\n",
      "Reading: /Users/lucas/PycharmProjects/Res-IRF/project/output/20210629_171700/Standard/detailed/result_euro_2020.csv\n",
      "Reading: /Users/lucas/PycharmProjects/Res-IRF/project/output/20210629_171700/Standard/detailed/result_euro_2021.csv\n",
      "Reading: /Users/lucas/PycharmProjects/Res-IRF/project/output/20210629_171700/Standard/detailed/result_euro_2025.csv\n",
      "Reading: /Users/lucas/PycharmProjects/Res-IRF/project/output/20210629_171700/Standard/detailed/result_euro_2019.csv\n",
      "Reading: /Users/lucas/PycharmProjects/Res-IRF/project/output/20210629_171700/Standard/detailed/result_euro_2024.csv\n",
      "Reading: /Users/lucas/PycharmProjects/Res-IRF/project/output/20210629_171700/Standard/detailed/result_euro_2026.csv\n",
      "Reading: /Users/lucas/PycharmProjects/Res-IRF/project/output/20210629_171700/Standard/detailed/result_euro_2027.csv\n",
      "Reading: /Users/lucas/PycharmProjects/Res-IRF/project/output/20210629_171700/Standard/detailed/result_unit_2020.csv\n",
      "Reading: /Users/lucas/PycharmProjects/Res-IRF/project/output/20210629_171700/Standard/detailed/result_unit_2021.csv\n",
      "Reading: /Users/lucas/PycharmProjects/Res-IRF/project/output/20210629_171700/Standard/detailed/result_unit_2023.csv\n",
      "Reading: /Users/lucas/PycharmProjects/Res-IRF/project/output/20210629_171700/Standard/detailed/result_unit_2022.csv\n",
      "Reading: /Users/lucas/PycharmProjects/Res-IRF/project/output/20210629_171700/Standard/detailed/result_unit_2026.csv\n",
      "Reading: /Users/lucas/PycharmProjects/Res-IRF/project/output/20210629_171700/Standard/detailed/result_unit_2027.csv\n",
      "Reading: /Users/lucas/PycharmProjects/Res-IRF/project/output/20210629_171700/Standard/detailed/result_unit_2025.csv\n",
      "Reading: /Users/lucas/PycharmProjects/Res-IRF/project/output/20210629_171700/Standard/detailed/result_unit_2019.csv\n",
      "Reading: /Users/lucas/PycharmProjects/Res-IRF/project/output/20210629_171700/Standard/detailed/result_unit_2024.csv\n",
      "Reading: /Users/lucas/PycharmProjects/Res-IRF/project/output/20210629_171700/Standard/detailed/result_unit_2029.csv\n",
      "Reading: /Users/lucas/PycharmProjects/Res-IRF/project/output/20210629_171700/Standard/detailed/result_unit_2028.csv\n",
      "Reading: /Users/lucas/PycharmProjects/Res-IRF/project/output/20210629_171700/Standard/detailed/result_euro_2029.csv\n",
      "Reading: /Users/lucas/PycharmProjects/Res-IRF/project/output/20210629_171700/Standard/detailed/result_euro_2028.csv\n"
     ]
    }
   ],
   "source": [
    "l = [f for f in os.listdir(folder_detailed) if f.split('_')[0] == 'result']\n",
    "for f in l:\n",
    "    name_file = os.path.join(folder_detailed, f)\n",
    "    var_dict[f.split('.')[0]] = pd.read_csv(name_file, index_col=[0, 1, 2, 3, 4, 5, 6, 7], header=[0])\n",
    "    print('Reading: {}'.format(name_file))"
   ]
  },
  {
   "cell_type": "markdown",
   "metadata": {},
   "source": [
    "## Initial dwelling stock"
   ]
  },
  {
   "cell_type": "markdown",
   "metadata": {},
   "source": [
    "## Evolution of dwelling stock\n",
    "Res-IRF considers stock dynamics. Buildings demolition, construction and renovation."
   ]
  },
  {
   "cell_type": "markdown",
   "metadata": {
    "pycharm": {
     "name": "#%% md\n"
    }
   },
   "source": [
    "### Dwellings stocks by Energy performance"
   ]
  },
  {
   "cell_type": "code",
   "execution_count": 6,
   "metadata": {
    "collapsed": false,
    "jupyter": {
     "outputs_hidden": false
    },
    "pycharm": {
     "name": "#%% Parc state\n"
    }
   },
   "outputs": [
    {
     "data": {
      "image/png": "[encoded data removed]",
      "text/plain": [
       "<Figure size 921.6x691.2 with 9 Axes>"
      ]
     },
     "metadata": {
      "needs_background": "light"
     },
     "output_type": "display_data"
    }
   ],
   "source": [
    "var_dict['stock_construction_segmented'] = var_dict['stock_construction_segmented'].reorder_levels(var_dict['stock_segmented'].index.names)\n",
    "df = pd.concat((var_dict['stock_segmented'], var_dict['stock_construction_segmented']), axis=0)\n",
    "df_ep = df.groupby(['Energy performance']).sum()\n",
    "df_ep = df_ep.loc[['A', 'B', 'C', 'D', 'E', 'F', 'G', 'BEPOS', 'BBC']]\n",
    "economic_subplots(df_ep, 'Buildings stock evolution by energy performance',\n",
    "                  format_axtitle=lambda x: x, format_val=lambda x: '{:.1f}M'.format(x / 1000000))"
   ]
  },
  {
   "cell_type": "markdown",
   "metadata": {
    "pycharm": {
     "name": "#%% md\n"
    }
   },
   "source": [
    "### Dwellings stocks by Heating energy"
   ]
  },
  {
   "cell_type": "code",
   "execution_count": 7,
   "metadata": {
    "collapsed": false,
    "jupyter": {
     "outputs_hidden": false
    },
    "pycharm": {
     "name": "#%%\n"
    }
   },
   "outputs": [
    {
     "data": {
      "image/png": "[encoded data removed]",
      "text/plain": [
       "<Figure size 921.6x691.2 with 4 Axes>"
      ]
     },
     "metadata": {
      "needs_background": "light"
     },
     "output_type": "display_data"
    }
   ],
   "source": [
    "df_ep = df.groupby(['Heating energy']).sum()\n",
    "economic_subplots(df_ep, 'Buildings stock evolution by heating energy',\n",
    "                  format_axtitle=lambda x: x, format_val=lambda x: '{:.1f}M'.format(x / 1000000), n_columns=2)"
   ]
  },
  {
   "cell_type": "markdown",
   "metadata": {
    "jupyter": {
     "outputs_hidden": false
    },
    "pycharm": {
     "name": "#%%\n"
    }
   },
   "source": [
    "### Renovation done"
   ]
  },
  {
   "cell_type": "markdown",
   "metadata": {
    "pycharm": {
     "name": "#%% md\n"
    }
   },
   "source": [
    "## Energy consumption\n",
    "Thanks to renovation, demolition and construction, energy consumption tends to decrease over time in the reference case.\n",
    "Energy consumption actual considers human behavior."
   ]
  },
  {
   "cell_type": "code",
   "execution_count": 8,
   "metadata": {},
   "outputs": [],
   "source": [
    "consumption_actual = var_dict['stock_segmented'] * var_dict['consumption_actual']\n",
    "consumption_actual.dropna(axis=1, how='any', inplace=True)"
   ]
  },
  {
   "cell_type": "code",
   "execution_count": 9,
   "metadata": {},
   "outputs": [
    {
     "data": {
      "text/html": [
       "<div>\n",
       "<style scoped>\n",
       "    .dataframe tbody tr th:only-of-type {\n",
       "        vertical-align: middle;\n",
       "    }\n",
       "\n",
       "    .dataframe tbody tr th {\n",
       "        vertical-align: top;\n",
       "    }\n",
       "\n",
       "    .dataframe thead th {\n",
       "        text-align: right;\n",
       "    }\n",
       "</style>\n",
       "<table border=\"1\" class=\"dataframe\">\n",
       "  <thead>\n",
       "    <tr style=\"text-align: right;\">\n",
       "      <th></th>\n",
       "      <th></th>\n",
       "      <th></th>\n",
       "      <th></th>\n",
       "      <th></th>\n",
       "      <th></th>\n",
       "      <th>2018</th>\n",
       "      <th>2019</th>\n",
       "      <th>2020</th>\n",
       "      <th>2021</th>\n",
       "      <th>2022</th>\n",
       "      <th>2023</th>\n",
       "      <th>2024</th>\n",
       "      <th>2025</th>\n",
       "      <th>2026</th>\n",
       "      <th>2027</th>\n",
       "      <th>2028</th>\n",
       "      <th>2029</th>\n",
       "    </tr>\n",
       "    <tr>\n",
       "      <th>Occupancy status</th>\n",
       "      <th>Housing type</th>\n",
       "      <th>Income class</th>\n",
       "      <th>Heating energy</th>\n",
       "      <th>Energy performance</th>\n",
       "      <th>Income class owner</th>\n",
       "      <th></th>\n",
       "      <th></th>\n",
       "      <th></th>\n",
       "      <th></th>\n",
       "      <th></th>\n",
       "      <th></th>\n",
       "      <th></th>\n",
       "      <th></th>\n",
       "      <th></th>\n",
       "      <th></th>\n",
       "      <th></th>\n",
       "      <th></th>\n",
       "    </tr>\n",
       "  </thead>\n",
       "  <tbody>\n",
       "    <tr>\n",
       "      <th rowspan=\"5\" valign=\"top\">Homeowners</th>\n",
       "      <th rowspan=\"5\" valign=\"top\">Multi-family</th>\n",
       "      <th rowspan=\"5\" valign=\"top\">D1</th>\n",
       "      <th rowspan=\"5\" valign=\"top\">Natural gas</th>\n",
       "      <th>A</th>\n",
       "      <th>D1</th>\n",
       "      <td>2.508743e+04</td>\n",
       "      <td>2.820164e+04</td>\n",
       "      <td>3.172730e+04</td>\n",
       "      <td>3.579052e+04</td>\n",
       "      <td>4.062266e+04</td>\n",
       "      <td>4.698787e+04</td>\n",
       "      <td>5.572518e+04</td>\n",
       "      <td>6.873194e+04</td>\n",
       "      <td>9.106344e+04</td>\n",
       "      <td>1.154379e+05</td>\n",
       "      <td>1.487987e+05</td>\n",
       "      <td>1.990361e+05</td>\n",
       "    </tr>\n",
       "    <tr>\n",
       "      <th>B</th>\n",
       "      <th>D1</th>\n",
       "      <td>1.714745e+05</td>\n",
       "      <td>1.898113e+05</td>\n",
       "      <td>2.092457e+05</td>\n",
       "      <td>2.311115e+05</td>\n",
       "      <td>2.573934e+05</td>\n",
       "      <td>2.903751e+05</td>\n",
       "      <td>3.406804e+05</td>\n",
       "      <td>4.163582e+05</td>\n",
       "      <td>4.930091e+05</td>\n",
       "      <td>5.764949e+05</td>\n",
       "      <td>6.516768e+05</td>\n",
       "      <td>7.055259e+05</td>\n",
       "    </tr>\n",
       "    <tr>\n",
       "      <th>C</th>\n",
       "      <th>D1</th>\n",
       "      <td>1.245748e+06</td>\n",
       "      <td>1.269149e+06</td>\n",
       "      <td>1.290362e+06</td>\n",
       "      <td>1.307936e+06</td>\n",
       "      <td>1.319337e+06</td>\n",
       "      <td>1.321849e+06</td>\n",
       "      <td>1.305704e+06</td>\n",
       "      <td>1.270213e+06</td>\n",
       "      <td>1.226834e+06</td>\n",
       "      <td>1.179478e+06</td>\n",
       "      <td>1.131669e+06</td>\n",
       "      <td>1.084444e+06</td>\n",
       "    </tr>\n",
       "    <tr>\n",
       "      <th>D</th>\n",
       "      <th>D1</th>\n",
       "      <td>2.645124e+06</td>\n",
       "      <td>2.611805e+06</td>\n",
       "      <td>2.578284e+06</td>\n",
       "      <td>2.544624e+06</td>\n",
       "      <td>2.510373e+06</td>\n",
       "      <td>2.473276e+06</td>\n",
       "      <td>2.425274e+06</td>\n",
       "      <td>2.350358e+06</td>\n",
       "      <td>2.266629e+06</td>\n",
       "      <td>2.174950e+06</td>\n",
       "      <td>2.080314e+06</td>\n",
       "      <td>1.985062e+06</td>\n",
       "    </tr>\n",
       "    <tr>\n",
       "      <th>E</th>\n",
       "      <th>D1</th>\n",
       "      <td>1.949522e+06</td>\n",
       "      <td>1.905329e+06</td>\n",
       "      <td>1.860482e+06</td>\n",
       "      <td>1.814072e+06</td>\n",
       "      <td>1.765428e+06</td>\n",
       "      <td>1.714454e+06</td>\n",
       "      <td>1.660890e+06</td>\n",
       "      <td>1.602376e+06</td>\n",
       "      <td>1.539276e+06</td>\n",
       "      <td>1.469608e+06</td>\n",
       "      <td>1.396344e+06</td>\n",
       "      <td>1.321731e+06</td>\n",
       "    </tr>\n",
       "    <tr>\n",
       "      <th>...</th>\n",
       "      <th>...</th>\n",
       "      <th>...</th>\n",
       "      <th>...</th>\n",
       "      <th>...</th>\n",
       "      <th>...</th>\n",
       "      <td>...</td>\n",
       "      <td>...</td>\n",
       "      <td>...</td>\n",
       "      <td>...</td>\n",
       "      <td>...</td>\n",
       "      <td>...</td>\n",
       "      <td>...</td>\n",
       "      <td>...</td>\n",
       "      <td>...</td>\n",
       "      <td>...</td>\n",
       "      <td>...</td>\n",
       "      <td>...</td>\n",
       "    </tr>\n",
       "    <tr>\n",
       "      <th rowspan=\"5\" valign=\"top\">Social-housing</th>\n",
       "      <th rowspan=\"5\" valign=\"top\">Single-family</th>\n",
       "      <th rowspan=\"5\" valign=\"top\">D9</th>\n",
       "      <th rowspan=\"5\" valign=\"top\">Wood fuel</th>\n",
       "      <th>C</th>\n",
       "      <th>D10</th>\n",
       "      <td>1.974445e+02</td>\n",
       "      <td>2.727904e+03</td>\n",
       "      <td>5.159673e+03</td>\n",
       "      <td>7.284011e+03</td>\n",
       "      <td>8.691450e+03</td>\n",
       "      <td>9.338184e+03</td>\n",
       "      <td>9.510744e+03</td>\n",
       "      <td>9.421372e+03</td>\n",
       "      <td>9.212336e+03</td>\n",
       "      <td>8.947444e+03</td>\n",
       "      <td>8.650030e+03</td>\n",
       "      <td>8.336339e+03</td>\n",
       "    </tr>\n",
       "    <tr>\n",
       "      <th>D</th>\n",
       "      <th>D10</th>\n",
       "      <td>9.507972e+02</td>\n",
       "      <td>3.107770e+03</td>\n",
       "      <td>4.978671e+03</td>\n",
       "      <td>6.398164e+03</td>\n",
       "      <td>7.157952e+03</td>\n",
       "      <td>7.307038e+03</td>\n",
       "      <td>7.193700e+03</td>\n",
       "      <td>6.956223e+03</td>\n",
       "      <td>6.665278e+03</td>\n",
       "      <td>6.449183e+03</td>\n",
       "      <td>6.104699e+03</td>\n",
       "      <td>5.645298e+03</td>\n",
       "    </tr>\n",
       "    <tr>\n",
       "      <th>E</th>\n",
       "      <th>D10</th>\n",
       "      <td>1.645583e+03</td>\n",
       "      <td>2.441740e+03</td>\n",
       "      <td>3.023879e+03</td>\n",
       "      <td>3.364866e+03</td>\n",
       "      <td>3.436604e+03</td>\n",
       "      <td>3.312585e+03</td>\n",
       "      <td>3.068257e+03</td>\n",
       "      <td>2.725265e+03</td>\n",
       "      <td>2.296617e+03</td>\n",
       "      <td>1.624742e+03</td>\n",
       "      <td>1.089950e+03</td>\n",
       "      <td>6.923745e+02</td>\n",
       "    </tr>\n",
       "    <tr>\n",
       "      <th>F</th>\n",
       "      <th>D10</th>\n",
       "      <td>1.169810e+03</td>\n",
       "      <td>1.234534e+03</td>\n",
       "      <td>1.250534e+03</td>\n",
       "      <td>1.116977e+03</td>\n",
       "      <td>9.199155e+02</td>\n",
       "      <td>6.889237e+02</td>\n",
       "      <td>4.663621e+02</td>\n",
       "      <td>2.826310e+02</td>\n",
       "      <td>1.516456e+02</td>\n",
       "      <td>1.252939e+02</td>\n",
       "      <td>1.018133e+02</td>\n",
       "      <td>8.124749e+01</td>\n",
       "    </tr>\n",
       "    <tr>\n",
       "      <th>G</th>\n",
       "      <th>D10</th>\n",
       "      <td>5.923575e+02</td>\n",
       "      <td>4.980204e+02</td>\n",
       "      <td>3.643341e+02</td>\n",
       "      <td>3.175430e+02</td>\n",
       "      <td>2.661184e+02</td>\n",
       "      <td>2.076140e+02</td>\n",
       "      <td>1.532287e+02</td>\n",
       "      <td>1.084676e+02</td>\n",
       "      <td>7.439568e+01</td>\n",
       "      <td>4.984034e+01</td>\n",
       "      <td>3.293096e+01</td>\n",
       "      <td>2.146112e+01</td>\n",
       "    </tr>\n",
       "  </tbody>\n",
       "</table>\n",
       "<p>6720 rows × 12 columns</p>\n",
       "</div>"
      ],
      "text/plain": [
       "                                                                                                          2018  \\\n",
       "Occupancy status Housing type  Income class Heating energy Energy performance Income class owner                 \n",
       "Homeowners       Multi-family  D1           Natural gas    A                  D1                  2.508743e+04   \n",
       "                                                           B                  D1                  1.714745e+05   \n",
       "                                                           C                  D1                  1.245748e+06   \n",
       "                                                           D                  D1                  2.645124e+06   \n",
       "                                                           E                  D1                  1.949522e+06   \n",
       "...                                                                                                        ...   \n",
       "Social-housing   Single-family D9           Wood fuel      C                  D10                 1.974445e+02   \n",
       "                                                           D                  D10                 9.507972e+02   \n",
       "                                                           E                  D10                 1.645583e+03   \n",
       "                                                           F                  D10                 1.169810e+03   \n",
       "                                                           G                  D10                 5.923575e+02   \n",
       "\n",
       "                                                                                                          2019  \\\n",
       "Occupancy status Housing type  Income class Heating energy Energy performance Income class owner                 \n",
       "Homeowners       Multi-family  D1           Natural gas    A                  D1                  2.820164e+04   \n",
       "                                                           B                  D1                  1.898113e+05   \n",
       "                                                           C                  D1                  1.269149e+06   \n",
       "                                                           D                  D1                  2.611805e+06   \n",
       "                                                           E                  D1                  1.905329e+06   \n",
       "...                                                                                                        ...   \n",
       "Social-housing   Single-family D9           Wood fuel      C                  D10                 2.727904e+03   \n",
       "                                                           D                  D10                 3.107770e+03   \n",
       "                                                           E                  D10                 2.441740e+03   \n",
       "                                                           F                  D10                 1.234534e+03   \n",
       "                                                           G                  D10                 4.980204e+02   \n",
       "\n",
       "                                                                                                          2020  \\\n",
       "Occupancy status Housing type  Income class Heating energy Energy performance Income class owner                 \n",
       "Homeowners       Multi-family  D1           Natural gas    A                  D1                  3.172730e+04   \n",
       "                                                           B                  D1                  2.092457e+05   \n",
       "                                                           C                  D1                  1.290362e+06   \n",
       "                                                           D                  D1                  2.578284e+06   \n",
       "                                                           E                  D1                  1.860482e+06   \n",
       "...                                                                                                        ...   \n",
       "Social-housing   Single-family D9           Wood fuel      C                  D10                 5.159673e+03   \n",
       "                                                           D                  D10                 4.978671e+03   \n",
       "                                                           E                  D10                 3.023879e+03   \n",
       "                                                           F                  D10                 1.250534e+03   \n",
       "                                                           G                  D10                 3.643341e+02   \n",
       "\n",
       "                                                                                                          2021  \\\n",
       "Occupancy status Housing type  Income class Heating energy Energy performance Income class owner                 \n",
       "Homeowners       Multi-family  D1           Natural gas    A                  D1                  3.579052e+04   \n",
       "                                                           B                  D1                  2.311115e+05   \n",
       "                                                           C                  D1                  1.307936e+06   \n",
       "                                                           D                  D1                  2.544624e+06   \n",
       "                                                           E                  D1                  1.814072e+06   \n",
       "...                                                                                                        ...   \n",
       "Social-housing   Single-family D9           Wood fuel      C                  D10                 7.284011e+03   \n",
       "                                                           D                  D10                 6.398164e+03   \n",
       "                                                           E                  D10                 3.364866e+03   \n",
       "                                                           F                  D10                 1.116977e+03   \n",
       "                                                           G                  D10                 3.175430e+02   \n",
       "\n",
       "                                                                                                          2022  \\\n",
       "Occupancy status Housing type  Income class Heating energy Energy performance Income class owner                 \n",
       "Homeowners       Multi-family  D1           Natural gas    A                  D1                  4.062266e+04   \n",
       "                                                           B                  D1                  2.573934e+05   \n",
       "                                                           C                  D1                  1.319337e+06   \n",
       "                                                           D                  D1                  2.510373e+06   \n",
       "                                                           E                  D1                  1.765428e+06   \n",
       "...                                                                                                        ...   \n",
       "Social-housing   Single-family D9           Wood fuel      C                  D10                 8.691450e+03   \n",
       "                                                           D                  D10                 7.157952e+03   \n",
       "                                                           E                  D10                 3.436604e+03   \n",
       "                                                           F                  D10                 9.199155e+02   \n",
       "                                                           G                  D10                 2.661184e+02   \n",
       "\n",
       "                                                                                                          2023  \\\n",
       "Occupancy status Housing type  Income class Heating energy Energy performance Income class owner                 \n",
       "Homeowners       Multi-family  D1           Natural gas    A                  D1                  4.698787e+04   \n",
       "                                                           B                  D1                  2.903751e+05   \n",
       "                                                           C                  D1                  1.321849e+06   \n",
       "                                                           D                  D1                  2.473276e+06   \n",
       "                                                           E                  D1                  1.714454e+06   \n",
       "...                                                                                                        ...   \n",
       "Social-housing   Single-family D9           Wood fuel      C                  D10                 9.338184e+03   \n",
       "                                                           D                  D10                 7.307038e+03   \n",
       "                                                           E                  D10                 3.312585e+03   \n",
       "                                                           F                  D10                 6.889237e+02   \n",
       "                                                           G                  D10                 2.076140e+02   \n",
       "\n",
       "                                                                                                          2024  \\\n",
       "Occupancy status Housing type  Income class Heating energy Energy performance Income class owner                 \n",
       "Homeowners       Multi-family  D1           Natural gas    A                  D1                  5.572518e+04   \n",
       "                                                           B                  D1                  3.406804e+05   \n",
       "                                                           C                  D1                  1.305704e+06   \n",
       "                                                           D                  D1                  2.425274e+06   \n",
       "                                                           E                  D1                  1.660890e+06   \n",
       "...                                                                                                        ...   \n",
       "Social-housing   Single-family D9           Wood fuel      C                  D10                 9.510744e+03   \n",
       "                                                           D                  D10                 7.193700e+03   \n",
       "                                                           E                  D10                 3.068257e+03   \n",
       "                                                           F                  D10                 4.663621e+02   \n",
       "                                                           G                  D10                 1.532287e+02   \n",
       "\n",
       "                                                                                                          2025  \\\n",
       "Occupancy status Housing type  Income class Heating energy Energy performance Income class owner                 \n",
       "Homeowners       Multi-family  D1           Natural gas    A                  D1                  6.873194e+04   \n",
       "                                                           B                  D1                  4.163582e+05   \n",
       "                                                           C                  D1                  1.270213e+06   \n",
       "                                                           D                  D1                  2.350358e+06   \n",
       "                                                           E                  D1                  1.602376e+06   \n",
       "...                                                                                                        ...   \n",
       "Social-housing   Single-family D9           Wood fuel      C                  D10                 9.421372e+03   \n",
       "                                                           D                  D10                 6.956223e+03   \n",
       "                                                           E                  D10                 2.725265e+03   \n",
       "                                                           F                  D10                 2.826310e+02   \n",
       "                                                           G                  D10                 1.084676e+02   \n",
       "\n",
       "                                                                                                          2026  \\\n",
       "Occupancy status Housing type  Income class Heating energy Energy performance Income class owner                 \n",
       "Homeowners       Multi-family  D1           Natural gas    A                  D1                  9.106344e+04   \n",
       "                                                           B                  D1                  4.930091e+05   \n",
       "                                                           C                  D1                  1.226834e+06   \n",
       "                                                           D                  D1                  2.266629e+06   \n",
       "                                                           E                  D1                  1.539276e+06   \n",
       "...                                                                                                        ...   \n",
       "Social-housing   Single-family D9           Wood fuel      C                  D10                 9.212336e+03   \n",
       "                                                           D                  D10                 6.665278e+03   \n",
       "                                                           E                  D10                 2.296617e+03   \n",
       "                                                           F                  D10                 1.516456e+02   \n",
       "                                                           G                  D10                 7.439568e+01   \n",
       "\n",
       "                                                                                                          2027  \\\n",
       "Occupancy status Housing type  Income class Heating energy Energy performance Income class owner                 \n",
       "Homeowners       Multi-family  D1           Natural gas    A                  D1                  1.154379e+05   \n",
       "                                                           B                  D1                  5.764949e+05   \n",
       "                                                           C                  D1                  1.179478e+06   \n",
       "                                                           D                  D1                  2.174950e+06   \n",
       "                                                           E                  D1                  1.469608e+06   \n",
       "...                                                                                                        ...   \n",
       "Social-housing   Single-family D9           Wood fuel      C                  D10                 8.947444e+03   \n",
       "                                                           D                  D10                 6.449183e+03   \n",
       "                                                           E                  D10                 1.624742e+03   \n",
       "                                                           F                  D10                 1.252939e+02   \n",
       "                                                           G                  D10                 4.984034e+01   \n",
       "\n",
       "                                                                                                          2028  \\\n",
       "Occupancy status Housing type  Income class Heating energy Energy performance Income class owner                 \n",
       "Homeowners       Multi-family  D1           Natural gas    A                  D1                  1.487987e+05   \n",
       "                                                           B                  D1                  6.516768e+05   \n",
       "                                                           C                  D1                  1.131669e+06   \n",
       "                                                           D                  D1                  2.080314e+06   \n",
       "                                                           E                  D1                  1.396344e+06   \n",
       "...                                                                                                        ...   \n",
       "Social-housing   Single-family D9           Wood fuel      C                  D10                 8.650030e+03   \n",
       "                                                           D                  D10                 6.104699e+03   \n",
       "                                                           E                  D10                 1.089950e+03   \n",
       "                                                           F                  D10                 1.018133e+02   \n",
       "                                                           G                  D10                 3.293096e+01   \n",
       "\n",
       "                                                                                                          2029  \n",
       "Occupancy status Housing type  Income class Heating energy Energy performance Income class owner                \n",
       "Homeowners       Multi-family  D1           Natural gas    A                  D1                  1.990361e+05  \n",
       "                                                           B                  D1                  7.055259e+05  \n",
       "                                                           C                  D1                  1.084444e+06  \n",
       "                                                           D                  D1                  1.985062e+06  \n",
       "                                                           E                  D1                  1.321731e+06  \n",
       "...                                                                                                        ...  \n",
       "Social-housing   Single-family D9           Wood fuel      C                  D10                 8.336339e+03  \n",
       "                                                           D                  D10                 5.645298e+03  \n",
       "                                                           E                  D10                 6.923745e+02  \n",
       "                                                           F                  D10                 8.124749e+01  \n",
       "                                                           G                  D10                 2.146112e+01  \n",
       "\n",
       "[6720 rows x 12 columns]"
      ]
     },
     "execution_count": 9,
     "metadata": {},
     "output_type": "execute_result"
    }
   ],
   "source": [
    "consumption_actual"
   ]
  },
  {
   "cell_type": "code",
   "execution_count": 10,
   "metadata": {},
   "outputs": [
    {
     "data": {
      "image/png": "[encoded data removed]",
      "text/plain": [
       "<Figure size 921.6x691.2 with 9 Axes>"
      ]
     },
     "metadata": {
      "needs_background": "light"
     },
     "output_type": "display_data"
    }
   ],
   "source": [
    "consumption_actual_ep = consumption_actual.groupby('Energy performance').sum()\n",
    "economic_subplots(consumption_actual_ep, 'Consumption (GWh/yr)',\n",
    "                  format_axtitle=lambda x: x, format_val=lambda x: '{:.0f}'.format(x / 1000000))"
   ]
  },
  {
   "cell_type": "markdown",
   "metadata": {},
   "source": [
    "## Capex\n",
    "Learning-by-doing and information acceleration tends to decrease transition costs."
   ]
  },
  {
   "cell_type": "markdown",
   "metadata": {
    "pycharm": {
     "name": "#%% md\n"
    }
   },
   "source": [
    "### Renovation cost"
   ]
  },
  {
   "cell_type": "code",
   "execution_count": 11,
   "metadata": {},
   "outputs": [],
   "source": [
    "index = var_dict['cost_envelope'].index.get_level_values('Energy performance').unique()\n",
    "columns = var_dict['cost_envelope'].index.get_level_values('Energy performance final').unique()"
   ]
  },
  {
   "cell_type": "code",
   "execution_count": 12,
   "metadata": {},
   "outputs": [],
   "source": [
    "from itertools import product\n"
   ]
  },
  {
   "cell_type": "code",
   "execution_count": 13,
   "metadata": {},
   "outputs": [
    {
     "data": {
      "text/html": [
       "<div>\n",
       "<style scoped>\n",
       "    .dataframe tbody tr th:only-of-type {\n",
       "        vertical-align: middle;\n",
       "    }\n",
       "\n",
       "    .dataframe tbody tr th {\n",
       "        vertical-align: top;\n",
       "    }\n",
       "\n",
       "    .dataframe thead th {\n",
       "        text-align: right;\n",
       "    }\n",
       "</style>\n",
       "<table border=\"1\" class=\"dataframe\">\n",
       "  <thead>\n",
       "    <tr style=\"text-align: right;\">\n",
       "      <th></th>\n",
       "      <th></th>\n",
       "      <th>2018</th>\n",
       "      <th>2019</th>\n",
       "      <th>2020</th>\n",
       "      <th>2021</th>\n",
       "      <th>2022</th>\n",
       "      <th>2023</th>\n",
       "      <th>2024</th>\n",
       "      <th>2025</th>\n",
       "      <th>2026</th>\n",
       "      <th>2027</th>\n",
       "      <th>2028</th>\n",
       "      <th>2029</th>\n",
       "    </tr>\n",
       "    <tr>\n",
       "      <th>Energy performance</th>\n",
       "      <th>Energy performance final</th>\n",
       "      <th></th>\n",
       "      <th></th>\n",
       "      <th></th>\n",
       "      <th></th>\n",
       "      <th></th>\n",
       "      <th></th>\n",
       "      <th></th>\n",
       "      <th></th>\n",
       "      <th></th>\n",
       "      <th></th>\n",
       "      <th></th>\n",
       "      <th></th>\n",
       "    </tr>\n",
       "  </thead>\n",
       "  <tbody>\n",
       "    <tr>\n",
       "      <th>B</th>\n",
       "      <th>A</th>\n",
       "      <td>114.691943</td>\n",
       "      <td>109.599460</td>\n",
       "      <td>100.586334</td>\n",
       "      <td>88.492578</td>\n",
       "      <td>74.016490</td>\n",
       "      <td>58.580762</td>\n",
       "      <td>44.059427</td>\n",
       "      <td>31.714898</td>\n",
       "      <td>22.008676</td>\n",
       "      <td>14.818810</td>\n",
       "      <td>9.731841</td>\n",
       "      <td>6.258569</td>\n",
       "    </tr>\n",
       "    <tr>\n",
       "      <th rowspan=\"2\" valign=\"top\">C</th>\n",
       "      <th>A</th>\n",
       "      <td>207.425592</td>\n",
       "      <td>198.215606</td>\n",
       "      <td>181.914957</td>\n",
       "      <td>160.042850</td>\n",
       "      <td>133.862187</td>\n",
       "      <td>105.945971</td>\n",
       "      <td>79.683476</td>\n",
       "      <td>57.357834</td>\n",
       "      <td>39.803691</td>\n",
       "      <td>26.800492</td>\n",
       "      <td>17.600477</td>\n",
       "      <td>11.318907</td>\n",
       "    </tr>\n",
       "    <tr>\n",
       "      <th>B</th>\n",
       "      <td>96.966825</td>\n",
       "      <td>92.661362</td>\n",
       "      <td>85.041173</td>\n",
       "      <td>74.816453</td>\n",
       "      <td>62.577578</td>\n",
       "      <td>49.527372</td>\n",
       "      <td>37.250243</td>\n",
       "      <td>26.813504</td>\n",
       "      <td>18.607335</td>\n",
       "      <td>12.528631</td>\n",
       "      <td>8.227829</td>\n",
       "      <td>5.291336</td>\n",
       "    </tr>\n",
       "    <tr>\n",
       "      <th rowspan=\"2\" valign=\"top\">D</th>\n",
       "      <th>A</th>\n",
       "      <td>282.267299</td>\n",
       "      <td>269.734235</td>\n",
       "      <td>247.552112</td>\n",
       "      <td>217.788280</td>\n",
       "      <td>182.161312</td>\n",
       "      <td>144.172581</td>\n",
       "      <td>108.434254</td>\n",
       "      <td>78.053246</td>\n",
       "      <td>54.165352</td>\n",
       "      <td>36.470439</td>\n",
       "      <td>23.950946</td>\n",
       "      <td>15.402908</td>\n",
       "    </tr>\n",
       "    <tr>\n",
       "      <th>B</th>\n",
       "      <td>175.749763</td>\n",
       "      <td>167.946227</td>\n",
       "      <td>154.134840</td>\n",
       "      <td>135.602809</td>\n",
       "      <td>113.420178</td>\n",
       "      <td>89.767030</td>\n",
       "      <td>67.515063</td>\n",
       "      <td>48.598756</td>\n",
       "      <td>33.725295</td>\n",
       "      <td>22.707806</td>\n",
       "      <td>14.912719</td>\n",
       "      <td>9.590404</td>\n",
       "    </tr>\n",
       "  </tbody>\n",
       "</table>\n",
       "</div>"
      ],
      "text/plain": [
       "                                                   2018        2019  \\\n",
       "Energy performance Energy performance final                           \n",
       "B                  A                         114.691943  109.599460   \n",
       "C                  A                         207.425592  198.215606   \n",
       "                   B                          96.966825   92.661362   \n",
       "D                  A                         282.267299  269.734235   \n",
       "                   B                         175.749763  167.946227   \n",
       "\n",
       "                                                   2020        2021  \\\n",
       "Energy performance Energy performance final                           \n",
       "B                  A                         100.586334   88.492578   \n",
       "C                  A                         181.914957  160.042850   \n",
       "                   B                          85.041173   74.816453   \n",
       "D                  A                         247.552112  217.788280   \n",
       "                   B                         154.134840  135.602809   \n",
       "\n",
       "                                                   2022        2023  \\\n",
       "Energy performance Energy performance final                           \n",
       "B                  A                          74.016490   58.580762   \n",
       "C                  A                         133.862187  105.945971   \n",
       "                   B                          62.577578   49.527372   \n",
       "D                  A                         182.161312  144.172581   \n",
       "                   B                         113.420178   89.767030   \n",
       "\n",
       "                                                   2024       2025       2026  \\\n",
       "Energy performance Energy performance final                                     \n",
       "B                  A                          44.059427  31.714898  22.008676   \n",
       "C                  A                          79.683476  57.357834  39.803691   \n",
       "                   B                          37.250243  26.813504  18.607335   \n",
       "D                  A                         108.434254  78.053246  54.165352   \n",
       "                   B                          67.515063  48.598756  33.725295   \n",
       "\n",
       "                                                  2027       2028       2029  \n",
       "Energy performance Energy performance final                                   \n",
       "B                  A                         14.818810   9.731841   6.258569  \n",
       "C                  A                         26.800492  17.600477  11.318907  \n",
       "                   B                         12.528631   8.227829   5.291336  \n",
       "D                  A                         36.470439  23.950946  15.402908  \n",
       "                   B                         22.707806  14.912719   9.590404  "
      ]
     },
     "execution_count": 13,
     "metadata": {},
     "output_type": "execute_result"
    }
   ],
   "source": [
    "df = var_dict['cost_envelope']\n",
    "df.head()"
   ]
  },
  {
   "cell_type": "code",
   "execution_count": 14,
   "metadata": {},
   "outputs": [
    {
     "data": {
      "text/plain": [
       "2018    114.691943\n",
       "2019    109.599460\n",
       "2020    100.586334\n",
       "2021     88.492578\n",
       "2022     74.016490\n",
       "2023     58.580762\n",
       "2024     44.059427\n",
       "2025     31.714898\n",
       "2026     22.008676\n",
       "2027     14.818810\n",
       "2028      9.731841\n",
       "2029      6.258569\n",
       "Name: (B, A), dtype: float64"
      ]
     },
     "execution_count": 14,
     "metadata": {},
     "output_type": "execute_result"
    }
   ],
   "source": [
    "df.loc['B', 'A']"
   ]
  },
  {
   "cell_type": "code",
   "execution_count": 15,
   "metadata": {},
   "outputs": [
    {
     "ename": "NameError",
     "evalue": "name 'coord' is not defined",
     "output_type": "error",
     "traceback": [
      "\u001b[0;31m---------------------------------------------------------------------------\u001b[0m",
      "\u001b[0;31mNameError\u001b[0m                                 Traceback (most recent call last)",
      "\u001b[0;32m<ipython-input-15-29be72684f47>\u001b[0m in \u001b[0;36m<module>\u001b[0;34m\u001b[0m\n\u001b[0;32m----> 1\u001b[0;31m \u001b[0mcoord\u001b[0m\u001b[0;34m\u001b[0m\u001b[0;34m\u001b[0m\u001b[0m\n\u001b[0m",
      "\u001b[0;31mNameError\u001b[0m: name 'coord' is not defined"
     ]
    }
   ],
   "source": [
    "coord"
   ]
  },
  {
   "cell_type": "code",
   "execution_count": null,
   "metadata": {},
   "outputs": [],
   "source": [
    "ds = pd.DataFrame([[1, 2], [3, 2], [1, 3]], index=[1, 2, 3], columns=[1, 2])"
   ]
  },
  {
   "cell_type": "code",
   "execution_count": null,
   "metadata": {},
   "outputs": [],
   "source": [
    "df.head()"
   ]
  },
  {
   "cell_type": "code",
   "execution_count": null,
   "metadata": {},
   "outputs": [],
   "source": [
    "df.loc[:, 2018]"
   ]
  },
  {
   "cell_type": "code",
   "execution_count": null,
   "metadata": {},
   "outputs": [],
   "source": [
    "\n"
   ]
  },
  {
   "cell_type": "code",
   "execution_count": null,
   "metadata": {},
   "outputs": [],
   "source": [
    "level_x = 'Energy performance'\n",
    "level_y = 'Energy performance final'\n",
    "table_plots(var_dict['cost_envelope'], level_x, level_y, suptitle='Renovation cost evolution with learning-by-doing (€/m2)')"
   ]
  },
  {
   "cell_type": "code",
   "execution_count": null,
   "metadata": {
    "collapsed": false,
    "jupyter": {
     "outputs_hidden": false
    },
    "pycharm": {
     "name": "#%%\n"
    }
   },
   "outputs": [],
   "source": [
    "economic_subplots(var_dict['cost_envelope'], 'Renovation cost evolution with learning-by-doing (€/m2)',\n",
    "                  format_axtitle=lambda x: '{} to {}'.format(x[0], x[1]), format_val=lambda x: '{:.0f}'.format(x))"
   ]
  },
  {
   "cell_type": "markdown",
   "metadata": {},
   "source": [
    "### Intangible cost"
   ]
  },
  {
   "cell_type": "code",
   "execution_count": null,
   "metadata": {},
   "outputs": [],
   "source": [
    "grouped_ep = var_dict['cost_intangible'].groupby(['Energy performance', 'Energy performance final'])\n",
    "cost_intangible_ep = grouped_ep.mean()"
   ]
  },
  {
   "cell_type": "code",
   "execution_count": null,
   "metadata": {},
   "outputs": [],
   "source": [
    "economic_subplots(cost_intangible_ep, 'Intangible cost evolution with acceleration information (€/m2)',\n",
    "                  format_axtitle=lambda x: '{} to {}'.format(x[0], x[1]), format_val=lambda x: '{:.0f}'.format(x))"
   ]
  },
  {
   "cell_type": "code",
   "execution_count": null,
   "metadata": {},
   "outputs": [],
   "source": [
    "# grouped_ep.boxplot(subplots=True)"
   ]
  },
  {
   "cell_type": "markdown",
   "metadata": {},
   "source": [
    "### Construction cost"
   ]
  },
  {
   "cell_type": "code",
   "execution_count": null,
   "metadata": {},
   "outputs": [],
   "source": [
    "economic_subplots(var_dict['cost_construction'], 'Renovation cost evolution with learning-by-doing (€/m2)',\n",
    "                  format_axtitle=lambda x: '{} to {}'.format(x[0], x[1]), format_val=lambda x: '{:.0f}'.format(x))"
   ]
  },
  {
   "cell_type": "markdown",
   "metadata": {},
   "source": [
    "## Total costs\n",
    "Macro-economic costs: total investment, private investment and public investment."
   ]
  },
  {
   "cell_type": "code",
   "execution_count": null,
   "metadata": {},
   "outputs": [],
   "source": [
    "data = pd.read_csv(os.path.join(folder_output, 'financials_dict.csv'), index_col=[0])\n",
    "data.index"
   ]
  },
  {
   "cell_type": "code",
   "execution_count": null,
   "metadata": {},
   "outputs": [],
   "source": [
    "# gCO2/yr --> tCO2/yr\n",
    "data.loc['Emission saving', :] = data.loc['Emission saving', :] / 1000000\n",
    "data.loc['Emission total', :] = data.loc['Emission total', :] / 1000000\n",
    "\n",
    "\n",
    "# kWh/yr --> GWh/yr\n",
    "data.loc['Energy saving', :] = data.loc['Energy saving', :] / 1000000\n",
    "data.loc['Consumption total', :] = data.loc['Consumption total', :] / 1000000"
   ]
  },
  {
   "cell_type": "code",
   "execution_count": null,
   "metadata": {},
   "outputs": [],
   "source": [
    "economic_subplots(data.loc[['Investment macro', 'Subsidies macro', 'Private investment macro',], :], 'Investment (G€)', format_val=lambda x: '{:.1f}'.format(x/1000000000))"
   ]
  },
  {
   "cell_type": "markdown",
   "metadata": {},
   "source": [
    "### Subsidies"
   ]
  },
  {
   "cell_type": "code",
   "execution_count": null,
   "metadata": {},
   "outputs": [],
   "source": [
    "financials_unit = var_dict['result_unit_2019'] \n",
    "financials_euro = var_dict['result_euro_2019'] "
   ]
  },
  {
   "cell_type": "code",
   "execution_count": null,
   "metadata": {},
   "outputs": [],
   "source": [
    "name_file = os.path.join(folder_detailed, 'policies_detailed.pkl')\n",
    "with open(name_file, 'rb') as handle:\n",
    "    subsidies_detailed = pickle.load(handle)"
   ]
  },
  {
   "cell_type": "code",
   "execution_count": null,
   "metadata": {},
   "outputs": [],
   "source": [
    "for yr in subsidies_detailed.keys():\n",
    "    economic_boxplots(subsidies_detailed[yr], ylabel='Possible subsidies (€/m2) {}'.format(yr))\n",
    "    break"
   ]
  },
  {
   "cell_type": "code",
   "execution_count": null,
   "metadata": {},
   "outputs": [],
   "source": [
    "a = subsidies_detailed[yr].index.names\n",
    "subsidies_detailed[yr].index.names = a[:-1] + ['Energy performance final']"
   ]
  },
  {
   "cell_type": "code",
   "execution_count": null,
   "metadata": {},
   "outputs": [],
   "source": [
    "b = subsidies_detailed[yr].groupby(['Energy performance', 'Energy performance final']).mean()\n",
    "economic_subplots(b, 'Subsidies (€/m2)',\n",
    "                  format_axtitle=lambda x: '{} to {}'.format(x[0], x[1]), format_val=lambda x: '{:.0f}'.format(x))"
   ]
  },
  {
   "cell_type": "code",
   "execution_count": null,
   "metadata": {},
   "outputs": [],
   "source": []
  },
  {
   "cell_type": "markdown",
   "metadata": {},
   "source": [
    "### CO2 Cost"
   ]
  },
  {
   "cell_type": "code",
   "execution_count": null,
   "metadata": {},
   "outputs": [],
   "source": [
    "co2_graph = pd.DataFrame()\n",
    "co2_graph['Flow renovation'] = financials_euro['Flow renovation'] * 100000\n",
    "co2_graph['Emission saving'] = financials_euro['Emission saving'] / 100000\n",
    "co2_graph['CO2 investment cost'] = financials_euro['CO2 investment cost'] * 100000\n",
    "co2_graph['CO2 private cost'] = financials_euro['CO2 private cost'] * 100000\n",
    "co2_graph = co2_graph.sort_values('CO2 private cost')\n",
    "co2_graph['CO2 Potential Emission'] = co2_graph['Emission saving'].cumsum()"
   ]
  },
  {
   "cell_type": "code",
   "execution_count": null,
   "metadata": {},
   "outputs": [],
   "source": [
    "distribution_scatter(financials_unit, 'Total capex', 'Flow renovation', colors_dict,\n",
    "                     xlabel='Total capex (€/m2)', ylabel='Renovation', level='Energy performance')\n",
    "\n",
    "distribution_scatter(financials_unit, 'NPV', 'Flow renovation', colors_dict,\n",
    "                     xlabel='Total capex (€/m2)', ylabel='Renovation', level='Energy performance')\n"
   ]
  },
  {
   "cell_type": "markdown",
   "metadata": {},
   "source": [
    "# Objectives\n",
    "\n",
    "1. Reduction of final energy consumption by 20% by 2030 and 50% by 2050 compared to 2012 - this objective is applied here to residential heating consumption;\n",
    "2. Energy renovation of 500,000 homes per year, including 120,000 in social housing;\n",
    "3. Disappearance of G and F energy performance housing by 2025;\n",
    "4. Renovation of the entire housing stock to the \"low-energy building\" level or similar by 2050 - a requirement interpreted here as a minimum performance equal to the B label of the DPE;\n",
    "5. Reducing fuel poverty by 15% by 2020."
   ]
  },
  {
   "cell_type": "code",
   "execution_count": null,
   "metadata": {},
   "outputs": [],
   "source": [
    "main_result = pd.read_csv(os.path.join(folder_output, 'financials_dict.csv'), header=[0], index_col=[0])"
   ]
  },
  {
   "cell_type": "code",
   "execution_count": null,
   "metadata": {},
   "outputs": [],
   "source": [
    "main_result"
   ]
  },
  {
   "cell_type": "markdown",
   "metadata": {
    "tags": [],
    "toc-hr-collapsed": true
   },
   "source": [
    "# Interactive"
   ]
  },
  {
   "cell_type": "markdown",
   "metadata": {
    "heading_collapsed": true
   },
   "source": [
    "### Interactive table"
   ]
  },
  {
   "cell_type": "markdown",
   "metadata": {
    "hidden": true
   },
   "source": [
    "Interactive table that display information about a specific segment or segments (if multiple value passed).\n",
    "\n",
    "Widget input:\n",
    "(can choose one)\n",
    "- df: financial_unit[year], financial_euro, segment\n",
    "- yr: optional\n",
    "\n",
    "(can choose multiple)\n",
    "- Occupancy status: \n",
    "- Housing type: \n",
    "- Income class:\n",
    "- Income class owner:\n",
    "- Energy performance:\n",
    "- Heating energy:\n",
    "- Energy performance final:\n",
    "- Heating energy final:"
   ]
  },
  {
   "cell_type": "code",
   "execution_count": null,
   "metadata": {
    "hidden": true
   },
   "outputs": [],
   "source": [
    "# TODO: if occ=None --> return all\n",
    "def select_segment(df, occ='Homeowners', housing='Multi-family', income='D5', performance_ini='F', energy_ini='Oil fuel',\n",
    "                   performance_end='C', energy_end='Oil fuel'):\n",
    "    # TODO: if one level is not passed, function must returns dataframe. Use multilevels function in old notebook.\n",
    "    if 'Energy performance final' not in df.index.names:\n",
    "        return df.xs(occ, level='Occupancy status', drop_level=False).\\\n",
    "            xs(housing, level='Housing type', drop_level=False).\\\n",
    "            xs(income, level='Income class', drop_level=False).\\\n",
    "            xs(performance_ini, level='Energy performance', drop_level=False).\\\n",
    "            xs(energy_ini, level='Heating energy', drop_level=False)\n",
    "    else:\n",
    "        return df.xs(occ, level='Occupancy status', drop_level=False).\\\n",
    "            xs(housing, level='Housing type', drop_level=False).\\\n",
    "            xs(income, level='Income class', drop_level=False).\\\n",
    "            xs(performance_ini, level='Energy performance', drop_level=False).\\\n",
    "            xs(energy_ini, level='Heating energy', drop_level=False).\\\n",
    "            xs(performance_end, level='Energy performance final', drop_level=False).\\\n",
    "            xs(energy_end, level='Heating energy final', drop_level=False)\n"
   ]
  },
  {
   "cell_type": "code",
   "execution_count": null,
   "metadata": {},
   "outputs": [],
   "source": [
    "var_dict.keys()"
   ]
  },
  {
   "cell_type": "code",
   "execution_count": null,
   "metadata": {},
   "outputs": [],
   "source": [
    "output = concat_yearly_dict(var_dict)"
   ]
  },
  {
   "cell_type": "code",
   "execution_count": null,
   "metadata": {},
   "outputs": [],
   "source": [
    "output.keys()"
   ]
  },
  {
   "cell_type": "code",
   "execution_count": null,
   "metadata": {},
   "outputs": [],
   "source": [
    "data = output['flow_renovation_label_energy_dict']"
   ]
  },
  {
   "cell_type": "code",
   "execution_count": null,
   "metadata": {},
   "outputs": [],
   "source": [
    "data.index.names"
   ]
  },
  {
   "cell_type": "code",
   "execution_count": null,
   "metadata": {},
   "outputs": [],
   "source": [
    "mux = pd.MultiIndex.from_arrays([\n",
    "    list('aaaabbbbbccddddd'),\n",
    "    list('tuvwtuvwtuvwtuvw')\n",
    "], names=['Occupancy status', 'two'])\n",
    "\n",
    "df = pd.DataFrame({'col': np.arange(len(mux))}, mux)"
   ]
  },
  {
   "cell_type": "code",
   "execution_count": null,
   "metadata": {},
   "outputs": [],
   "source": [
    "df"
   ]
  },
  {
   "cell_type": "code",
   "execution_count": null,
   "metadata": {},
   "outputs": [],
   "source": [
    "df.query(\"Occupancy status == 'a'\")"
   ]
  },
  {
   "cell_type": "code",
   "execution_count": null,
   "metadata": {},
   "outputs": [],
   "source": [
    "data"
   ]
  },
  {
   "cell_type": "code",
   "execution_count": null,
   "metadata": {},
   "outputs": [],
   "source": [
    "# slicing with one argumnet\n",
    "data.loc[['Landlords']]\n",
    "data.xs('Landlords', level='Occupancy status', axis=0, drop_level=False)\n",
    "data.query(\"`Occupancy status` == 'Landlords'\")\n",
    "idx = pd.IndexSlice\n",
    "data.loc[idx[:, 'Multi-family', :, :, :, :, :, :], :]\n",
    "data[data.index.get_level_values('Heating energy').isin(['Power', 'Natural gas'])]\n",
    "\n",
    "items = ['Power', 'Natural gas']\n",
    "data.query(\"`Heating energy` in @items\")\n",
    "\n",
    "data.query(\"`Occupancy status` == 'Landlords' and `Heating energy` in @items\")\n"
   ]
  },
  {
   "cell_type": "code",
   "execution_count": null,
   "metadata": {
    "hidden": true
   },
   "outputs": [],
   "source": [
    "# import plotly.graph_objects as go\n",
    "from ipywidgets import widgets"
   ]
  },
  {
   "cell_type": "code",
   "execution_count": null,
   "metadata": {},
   "outputs": [],
   "source": [
    "w_yrs = widgets.IntSlider(min=2018, max=2030, step=1, description='Years', disabled=False, continuous_update=False)\n",
    "display(w_yrs)"
   ]
  },
  {
   "cell_type": "code",
   "execution_count": null,
   "metadata": {},
   "outputs": [],
   "source": [
    "w = widgets.Checkbox(value=False, description='Check me', disabled=False, indent=False)\n",
    "display(w)"
   ]
  },
  {
   "cell_type": "code",
   "execution_count": null,
   "metadata": {},
   "outputs": [],
   "source": [
    "print(w.value)"
   ]
  },
  {
   "cell_type": "code",
   "execution_count": null,
   "metadata": {},
   "outputs": [],
   "source": [
    "housing_type = widgets.Dropdown(options=['Landlords', 'Homeowners', 'Social-housing'], description='Housing type', disabled=False, layout={'width': 'max-content'})\n",
    "display(housing_type)"
   ]
  },
  {
   "cell_type": "code",
   "execution_count": null,
   "metadata": {},
   "outputs": [],
   "source": [
    "list_heating_energy = ['Power', 'Natural gas', 'Oil fuel', 'Wood fuel']\n",
    "heating_energy = widgets.Dropdown(options=list_heating_energy, description='Heating energy', disabled=False, layout={'width': 'max-content'})\n",
    "display(heating_energy)"
   ]
  },
  {
   "cell_type": "code",
   "execution_count": null,
   "metadata": {},
   "outputs": [],
   "source": [
    "multiple = widgets.SelectMultiple(\n",
    "    options=list_heating_energy,\n",
    "    value=['Power'],\n",
    "    description='Heating energy',\n",
    "    disabled=False\n",
    ")\n",
    "display(multiple)"
   ]
  },
  {
   "cell_type": "code",
   "execution_count": null,
   "metadata": {},
   "outputs": [],
   "source": [
    "multiple.value"
   ]
  },
  {
   "cell_type": "markdown",
   "metadata": {},
   "source": [
    "### Interactive grouped"
   ]
  },
  {
   "cell_type": "code",
   "execution_count": null,
   "metadata": {},
   "outputs": [],
   "source": []
  },
  {
   "cell_type": "markdown",
   "metadata": {},
   "source": [
    "## Public policies"
   ]
  },
  {
   "cell_type": "code",
   "execution_count": null,
   "metadata": {},
   "outputs": [],
   "source": [
    "Each year, how many subsidies have been given "
   ]
  },
  {
   "cell_type": "code",
   "execution_count": null,
   "metadata": {},
   "outputs": [],
   "source": [
    "import qgrid"
   ]
  },
  {
   "cell_type": "code",
   "execution_count": null,
   "metadata": {},
   "outputs": [],
   "source": [
    "from itables import init_notebook_mode\n",
    "from itables import show"
   ]
  },
  {
   "cell_type": "markdown",
   "metadata": {},
   "source": [
    "# Sensitivity Analysis"
   ]
  },
  {
   "cell_type": "markdown",
   "metadata": {},
   "source": [
    "Parameters sensitivy analysis:\n",
    "- cost_invest\n",
    "- cost_intangible\n",
    "- nu \n",
    "- demolition_rate\n",
    "- energy_prices \n",
    "- public_policies\n",
    "\n",
    "Almost all need to make a new model calibration --> main_func need to be integrate calibration step\n",
    "thread(main_func)\n"
   ]
  }
 ],
 "metadata": {
  "kernelspec": {
   "display_name": "Python 3",
   "language": "python",
   "name": "python3"
  },
  "language_info": {
   "codemirror_mode": {
    "name": "ipython",
    "version": 3
   },
   "file_extension": ".py",
   "mimetype": "text/x-python",
   "name": "python",
   "nbconvert_exporter": "python",
   "pygments_lexer": "ipython3",
   "version": "3.7.10"
  },
  "toc": {
   "base_numbering": 1,
   "nav_menu": {},
   "number_sections": true,
   "sideBar": true,
   "skip_h1_title": false,
   "title_cell": "Table of Contents",
   "title_sidebar": "Contents",
   "toc_cell": false,
   "toc_position": {},
   "toc_section_display": true,
   "toc_window_display": false
  },
  "varInspector": {
   "cols": {
    "lenName": 16,
    "lenType": 16,
    "lenVar": 40
   },
   "kernels_config": {
    "python": {
     "delete_cmd_postfix": "",
     "delete_cmd_prefix": "del ",
     "library": "var_list.py",
     "varRefreshCmd": "print(var_dic_list())"
    },
    "r": {
     "delete_cmd_postfix": ") ",
     "delete_cmd_prefix": "rm(",
     "library": "var_list.r",
     "varRefreshCmd": "cat(var_dic_list()) "
    }
   },
   "types_to_exclude": [
    "module",
    "function",
    "builtin_function_or_method",
    "instance",
    "_Feature"
   ],
   "window_display": false
  }
 },
 "nbformat": 4,
 "nbformat_minor": 4
}
