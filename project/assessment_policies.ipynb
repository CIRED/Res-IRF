{
 "cells": [
  {
   "cell_type": "markdown",
   "id": "heavy-triple",
   "metadata": {},
   "source": [
    "# User-Interface for Res-IRF\n",
    "The Res-IRF model is a tool for simulating energy consumption for space heating in the French residential sector.\n",
    "\n",
    "Its main characteristic is to integrate a detailed description of the energy performance of the dwelling stock with a rich description of household behaviour.\n",
    "\n",
    "This notebook is an example of post-treatment to **assess public policies**."
   ]
  },
  {
   "cell_type": "code",
   "execution_count": 1,
   "id": "massive-denver",
   "metadata": {},
   "outputs": [
    {
     "name": "stdout",
     "output_type": "stream",
     "text": [
      "/Users/lucas/PycharmProjects/Res-IRF/project\n"
     ]
    }
   ],
   "source": [
    "import os\n",
    "print(os.getcwd())\n",
    "os.chdir(os.path.join(os.getcwd(), '..'))\n",
    "# print(os.getcwd())"
   ]
  },
  {
   "cell_type": "code",
   "execution_count": 2,
   "id": "freelance-martial",
   "metadata": {},
   "outputs": [],
   "source": [
    "import pickle\n",
    "from ui_utils import *\n",
    "import matplotlib.pyplot as plt\n",
    "\n",
    "from parse_input import colors_dict"
   ]
  },
  {
   "cell_type": "markdown",
   "id": "interracial-schedule",
   "metadata": {
    "pycharm": {
     "name": "#%% md\n"
    }
   },
   "source": [
    "**User need to enter folder's name:**"
   ]
  },
  {
   "cell_type": "code",
   "execution_count": 3,
   "id": "powerful-effect",
   "metadata": {
    "collapsed": false,
    "jupyter": {
     "outputs_hidden": false
    },
    "pycharm": {
     "name": "#%%\n"
    }
   },
   "outputs": [],
   "source": [
    "name_folder = '20210608_173304'"
   ]
  },
  {
   "cell_type": "code",
   "execution_count": 4,
   "id": "accredited-unknown",
   "metadata": {},
   "outputs": [],
   "source": [
    "folder_output = os.path.join(os.getcwd(), 'project', 'output', name_folder)\n",
    "scenarios = [f for f in os.listdir(folder_output) if f != 'log.txt']\n",
    "folders = {scenario: os.path.join(folder_output, scenario) for scenario in scenarios} \n",
    "main_result = {scenario: pd.read_csv(os.path.join(folders[scenario], 'financials_dict.csv'), header=[0], index_col=[0]) for scenario in scenarios}"
   ]
  },
  {
   "cell_type": "code",
   "execution_count": 5,
   "id": "popular-harvest",
   "metadata": {},
   "outputs": [
    {
     "data": {
      "text/plain": [
       "''"
      ]
     },
     "execution_count": 5,
     "metadata": {},
     "output_type": "execute_result"
    }
   ],
   "source": [
    "'Private investment'\n",
    "'Investment macro'\n",
    "''"
   ]
  },
  {
   "cell_type": "code",
   "execution_count": 6,
   "id": "antique-temperature",
   "metadata": {},
   "outputs": [
    {
     "data": {
      "text/plain": [
       "{'No_CITE':                                      2019          2020          2021  \\\n",
       " Consumption                  2.214752e+11  2.165654e+11  2.108060e+11   \n",
       " Consumption construction     6.184657e+08  2.071817e+09  4.310097e+09   \n",
       " Consumption total            2.220936e+11  2.186372e+11  2.151161e+11   \n",
       " Emission                     4.179911e+13  4.051880e+13  3.906567e+13   \n",
       " Emission construction        9.534923e+10  3.179679e+11  6.586102e+11   \n",
       " Emission total               4.189446e+13  4.083676e+13  3.972428e+13   \n",
       " Total number of renovations  4.953465e+05  5.682904e+05  6.950928e+05   \n",
       " Number of G & F buildings    4.287247e+06  4.042440e+06  3.765302e+06   \n",
       " Investment macro             6.931469e+09  7.499565e+09  8.074756e+09   \n",
       " Private investment macro     5.748731e+09  6.151621e+09  6.517541e+09   \n",
       " Subsidies macro              1.182737e+09  1.347944e+09  1.557214e+09   \n",
       " Energy taxes                 1.027963e+09  1.030602e+09  1.013047e+09   \n",
       " Energy taxes construction    2.652219e+06  8.989587e+06  1.876910e+07   \n",
       " Energy taxes total           1.030615e+09  1.039592e+09  1.031816e+09   \n",
       " Emission saving              1.191344e+12  1.139240e+12  1.089425e+12   \n",
       " Energy saving                7.791023e+09  7.482176e+09  7.185556e+09   \n",
       " \n",
       "                                      2022          2023          2024  \\\n",
       " Consumption                  2.042901e+11  1.971812e+11  1.896269e+11   \n",
       " Consumption construction     7.265531e+09  1.086097e+10  1.503416e+10   \n",
       " Consumption total            2.115556e+11  2.080422e+11  2.046611e+11   \n",
       " Emission                     3.747908e+13  3.580219e+13  3.407062e+13   \n",
       " Emission construction        1.105773e+12  1.647073e+12  2.273019e+12   \n",
       " Emission total               3.858485e+13  3.744927e+13  3.634364e+13   \n",
       " Total number of renovations  8.052478e+05  8.963050e+05  9.621409e+05   \n",
       " Number of G & F buildings    3.468432e+06  3.162539e+06  2.856809e+06   \n",
       " Investment macro             8.052654e+09  7.563646e+09  6.853915e+09   \n",
       " Private investment macro     6.425178e+09  5.929219e+09  5.334748e+09   \n",
       " Subsidies macro              1.627475e+09  1.634428e+09  1.519167e+09   \n",
       " Energy taxes                 9.916527e+08  9.671537e+08  9.401549e+08   \n",
       " Energy taxes construction    3.172747e+07  4.751791e+07  6.585809e+07   \n",
       " Energy taxes total           1.023380e+09  1.014672e+09  1.006013e+09   \n",
       " Emission saving              1.041793e+12  9.962506e+11  9.527040e+11   \n",
       " Energy saving                6.900671e+09  6.627057e+09  6.364268e+09   \n",
       " \n",
       "                                      2025          2026          2027  \\\n",
       " Consumption                  1.817653e+11  1.738161e+11  1.660099e+11   \n",
       " Consumption construction     1.976679e+10  2.506515e+10  3.095551e+10   \n",
       " Consumption total            2.015320e+11  1.988813e+11  1.969654e+11   \n",
       " Emission                     3.231558e+13  3.057995e+13  2.890548e+13   \n",
       " Emission construction        2.981664e+12  3.775263e+12  4.659574e+12   \n",
       " Emission total               3.529725e+13  3.435521e+13  3.356505e+13   \n",
       " Total number of renovations  1.011042e+06  1.033282e+06  1.030605e+06   \n",
       " Number of G & F buildings    2.560277e+06  2.284456e+06  2.032637e+06   \n",
       " Investment macro             5.961474e+09  4.992579e+09  4.013257e+09   \n",
       " Private investment macro     4.570856e+09  3.796483e+09  3.040059e+09   \n",
       " Subsidies macro              1.390618e+09  1.196096e+09  9.731984e+08   \n",
       " Energy taxes                 9.112894e+08  8.816262e+08  8.522793e+08   \n",
       " Energy taxes construction    8.670672e+07  1.101735e+08  1.365073e+08   \n",
       " Energy taxes total           9.979962e+08  9.917997e+08  9.887866e+08   \n",
       " Emission saving              9.110655e+11  8.712511e+11  8.331804e+11   \n",
       " Energy saving                6.111877e+09  5.869471e+09  5.636657e+09   \n",
       " \n",
       "                                      2028          2029  \n",
       " Consumption                  1.584983e+11  1.513492e+11  \n",
       " Consumption construction     3.749199e+10  4.475851e+10  \n",
       " Consumption total            1.959902e+11  1.961077e+11  \n",
       " Emission                     2.731757e+13  2.582575e+13  \n",
       " Emission construction        5.645387e+12  6.748826e+12  \n",
       " Emission total               3.296296e+13  3.257457e+13  \n",
       " Total number of renovations  1.010045e+06  9.766576e+05  \n",
       " Number of G & F buildings    1.808668e+06  1.614379e+06  \n",
       " Investment macro             3.117317e+09  2.367101e+09  \n",
       " Private investment macro     2.311068e+09  1.640413e+09  \n",
       " Subsidies macro              8.062484e+08  7.266883e+08  \n",
       " Energy taxes                 8.240974e+08  7.974071e+08  \n",
       " Energy taxes construction    1.661753e+08  1.998944e+08  \n",
       " Energy taxes total           9.902726e+08  9.973015e+08  \n",
       " Emission saving              7.967766e+11  7.619662e+11  \n",
       " Energy saving                5.413055e+09  5.198301e+09  ,\n",
       " 'CITE':                                      2019          2020          2021  \\\n",
       " Consumption                  2.207398e+11  2.151060e+11  2.086266e+11   \n",
       " Consumption construction     6.184657e+08  2.071817e+09  4.310097e+09   \n",
       " Consumption total            2.213583e+11  2.171778e+11  2.129367e+11   \n",
       " Emission                     4.163433e+13  4.019770e+13  3.859927e+13   \n",
       " Emission construction        9.534923e+10  3.179679e+11  6.586102e+11   \n",
       " Emission total               4.172968e+13  4.051567e+13  3.925788e+13   \n",
       " Total number of renovations  6.006584e+05  6.726937e+05  7.955380e+05   \n",
       " Number of G & F buildings    4.247479e+06  3.967915e+06  3.663677e+06   \n",
       " Investment macro             7.479045e+09  7.799866e+09  8.028348e+09   \n",
       " Private investment macro     4.287488e+09  4.379488e+09  4.381756e+09   \n",
       " Subsidies macro              3.191557e+09  3.420377e+09  3.646592e+09   \n",
       " Energy taxes                 1.024367e+09  1.023244e+09  1.001983e+09   \n",
       " Energy taxes construction    2.652219e+06  8.989587e+06  1.876910e+07   \n",
       " Energy taxes total           1.027020e+09  1.032234e+09  1.020752e+09   \n",
       " Emission saving              1.191344e+12  1.139240e+12  1.089425e+12   \n",
       " Energy saving                7.791023e+09  7.482176e+09  7.185556e+09   \n",
       " \n",
       "                                      2022          2023          2024  \\\n",
       " Consumption                  2.014404e+11  1.937810e+11  1.858349e+11   \n",
       " Consumption construction     7.265531e+09  1.086097e+10  1.503416e+10   \n",
       " Consumption total            2.087059e+11  2.046420e+11  2.008690e+11   \n",
       " Emission                     3.688651e+13  3.511385e+13  3.332143e+13   \n",
       " Emission construction        1.105773e+12  1.647073e+12  2.273019e+12   \n",
       " Emission total               3.799229e+13  3.676092e+13  3.559445e+13   \n",
       " Total number of renovations  8.946655e+05  9.678921e+05  1.012353e+06   \n",
       " Number of G & F buildings    3.347361e+06  3.030066e+06  2.721404e+06   \n",
       " Investment macro             7.746778e+09  7.064044e+09  6.238197e+09   \n",
       " Private investment macro     4.150167e+09  3.694501e+09  3.267107e+09   \n",
       " Subsidies macro              3.596610e+09  3.369542e+09  2.971089e+09   \n",
       " Energy taxes                 9.770947e+08  9.496608e+08  9.204894e+08   \n",
       " Energy taxes construction    3.172747e+07  4.751791e+07  6.585809e+07   \n",
       " Energy taxes total           1.008822e+09  9.971787e+08  9.863475e+08   \n",
       " Emission saving              1.041793e+12  9.962506e+11  9.527040e+11   \n",
       " Energy saving                6.900671e+09  6.627057e+09  6.364268e+09   \n",
       " \n",
       "                                      2025          2026          2027  \\\n",
       " Consumption                  1.777548e+11  1.697607e+11  1.620490e+11   \n",
       " Consumption construction     1.976679e+10  2.506515e+10  3.095551e+10   \n",
       " Consumption total            1.975216e+11  1.948258e+11  1.930045e+11   \n",
       " Emission                     3.154055e+13  2.981181e+13  2.816921e+13   \n",
       " Emission construction        2.981664e+12  3.775263e+12  4.659574e+12   \n",
       " Emission total               3.452222e+13  3.358708e+13  3.282879e+13   \n",
       " Total number of renovations  1.039387e+06  1.041140e+06  1.021057e+06   \n",
       " Number of G & F buildings    2.428681e+06  2.162148e+06  1.922225e+06   \n",
       " Investment macro             5.286718e+09  4.332018e+09  3.436257e+09   \n",
       " Private investment macro     2.738437e+09  2.271088e+09  1.862425e+09   \n",
       " Subsidies macro              2.548281e+09  2.060930e+09  1.573831e+09   \n",
       " Energy taxes                 8.903036e+08  8.601931e+08  8.311222e+08   \n",
       " Energy taxes construction    8.670672e+07  1.101735e+08  1.365073e+08   \n",
       " Energy taxes total           9.770103e+08  9.703666e+08  9.676295e+08   \n",
       " Emission saving              9.110655e+11  8.712511e+11  8.331804e+11   \n",
       " Energy saving                6.111877e+09  5.869471e+09  5.636657e+09   \n",
       " \n",
       "                                      2028          2029  \n",
       " Consumption                  1.547422e+11  1.478590e+11  \n",
       " Consumption construction     3.749199e+10  4.475851e+10  \n",
       " Consumption total            1.922342e+11  1.926175e+11  \n",
       " Emission                     2.663172e+13  2.519927e+13  \n",
       " Emission construction        5.645387e+12  6.748826e+12  \n",
       " Emission total               3.227710e+13  3.194810e+13  \n",
       " Total number of renovations  9.876266e+05  9.457633e+05  \n",
       " Number of G & F buildings    1.712576e+06  1.531766e+06  \n",
       " Investment macro             2.647639e+09  1.998384e+09  \n",
       " Private investment macro     1.447146e+09  1.016930e+09  \n",
       " Subsidies macro              1.200493e+09  9.814547e+08  \n",
       " Energy taxes                 8.038089e+08  7.783348e+08  \n",
       " Energy taxes construction    1.661753e+08  1.998944e+08  \n",
       " Energy taxes total           9.699842e+08  9.782292e+08  \n",
       " Emission saving              7.967766e+11  7.619662e+11  \n",
       " Energy saving                5.413055e+09  5.198301e+09  }"
      ]
     },
     "execution_count": 6,
     "metadata": {},
     "output_type": "execute_result"
    }
   ],
   "source": [
    "main_result"
   ]
  },
  {
   "cell_type": "markdown",
   "id": "future-financing",
   "metadata": {},
   "source": [
    "# Overview"
   ]
  },
  {
   "cell_type": "code",
   "execution_count": null,
   "id": "opponent-credits",
   "metadata": {},
   "outputs": [],
   "source": []
  },
  {
   "cell_type": "markdown",
   "id": "raised-switzerland",
   "metadata": {},
   "source": [
    "# Costs"
   ]
  },
  {
   "cell_type": "code",
   "execution_count": 21,
   "id": "selected-screw",
   "metadata": {},
   "outputs": [],
   "source": [
    "subsidies_macro = {scenario: main_result[scenario].loc['Subsidies macro', :] for scenario in scenarios}\n",
    "subsidies_macro = pd.DataFrame(subsidies_macro).T / 10**9\n",
    "cost_subsidies = abs(subsidies_macro.iloc[0, :] - subsidies_macro.iloc[1, :])"
   ]
  },
  {
   "cell_type": "code",
   "execution_count": 26,
   "id": "silent-diamond",
   "metadata": {},
   "outputs": [
    {
     "data": {
      "image/png": "[encoded data removed]",
      "text/plain": [
       "<Figure size 921.6x691.2 with 2 Axes>"
      ]
     },
     "metadata": {
      "needs_background": "light"
     },
     "output_type": "display_data"
    }
   ],
   "source": [
    "economic_subplots(subsidies_macro, 'Subsidies (Billions €)', n_columns=2)"
   ]
  },
  {
   "cell_type": "markdown",
   "id": "rolled-sleep",
   "metadata": {},
   "source": [
    "# Objectives\n",
    "\n",
    "\n",
    "1. Reduction of final energy consumption by 20% by 2030 and 50% by 2050 compared to 2012 - this objective is applied here to residential heating consumption;\n",
    "2. Energy renovation of 500,000 homes per year, including 120,000 in social housing;\n",
    "3. Disappearance of G and F energy performance housing by 2025;\n",
    "4. Renovation of the entire housing stock to the \"low-energy building\" level or similar by 2050 - a requirement interpreted here as a minimum performance equal to the B label of the DPE;\n",
    "5. Reducing fuel poverty by 15% by 2020.\n"
   ]
  },
  {
   "cell_type": "markdown",
   "id": "apparent-volleyball",
   "metadata": {},
   "source": [
    "## Objective 1 - Reduction consumption\n",
    "\n",
    "Objective is to reduce of 20% in 2030, and 50% in 2050.  \n",
    "Consumption total is measured in kWh --> / 10**9 --> TWh"
   ]
  },
  {
   "cell_type": "code",
   "execution_count": 17,
   "id": "turkish-imperial",
   "metadata": {},
   "outputs": [
    {
     "data": {
      "text/html": [
       "<div>\n",
       "<style scoped>\n",
       "    .dataframe tbody tr th:only-of-type {\n",
       "        vertical-align: middle;\n",
       "    }\n",
       "\n",
       "    .dataframe tbody tr th {\n",
       "        vertical-align: top;\n",
       "    }\n",
       "\n",
       "    .dataframe thead th {\n",
       "        text-align: right;\n",
       "    }\n",
       "</style>\n",
       "<table border=\"1\" class=\"dataframe\">\n",
       "  <thead>\n",
       "    <tr style=\"text-align: right;\">\n",
       "      <th></th>\n",
       "      <th>2019</th>\n",
       "      <th>2020</th>\n",
       "      <th>2021</th>\n",
       "      <th>2022</th>\n",
       "      <th>2023</th>\n",
       "      <th>2024</th>\n",
       "      <th>2025</th>\n",
       "      <th>2026</th>\n",
       "      <th>2027</th>\n",
       "      <th>2028</th>\n",
       "      <th>2029</th>\n",
       "    </tr>\n",
       "  </thead>\n",
       "  <tbody>\n",
       "    <tr>\n",
       "      <th>No_CITE</th>\n",
       "      <td>222.093616</td>\n",
       "      <td>218.637174</td>\n",
       "      <td>215.116079</td>\n",
       "      <td>211.55562</td>\n",
       "      <td>208.042203</td>\n",
       "      <td>204.661095</td>\n",
       "      <td>201.532041</td>\n",
       "      <td>198.881269</td>\n",
       "      <td>196.965443</td>\n",
       "      <td>195.990243</td>\n",
       "      <td>196.107666</td>\n",
       "    </tr>\n",
       "    <tr>\n",
       "      <th>CITE</th>\n",
       "      <td>221.358276</td>\n",
       "      <td>217.177794</td>\n",
       "      <td>212.936675</td>\n",
       "      <td>208.70590</td>\n",
       "      <td>204.641966</td>\n",
       "      <td>200.869035</td>\n",
       "      <td>197.521559</td>\n",
       "      <td>194.825828</td>\n",
       "      <td>193.004517</td>\n",
       "      <td>192.234195</td>\n",
       "      <td>192.617515</td>\n",
       "    </tr>\n",
       "  </tbody>\n",
       "</table>\n",
       "</div>"
      ],
      "text/plain": [
       "               2019        2020        2021       2022        2023  \\\n",
       "No_CITE  222.093616  218.637174  215.116079  211.55562  208.042203   \n",
       "CITE     221.358276  217.177794  212.936675  208.70590  204.641966   \n",
       "\n",
       "               2024        2025        2026        2027        2028  \\\n",
       "No_CITE  204.661095  201.532041  198.881269  196.965443  195.990243   \n",
       "CITE     200.869035  197.521559  194.825828  193.004517  192.234195   \n",
       "\n",
       "               2029  \n",
       "No_CITE  196.107666  \n",
       "CITE     192.617515  "
      ]
     },
     "execution_count": 17,
     "metadata": {},
     "output_type": "execute_result"
    }
   ],
   "source": [
    "consumption_total = {scenario: main_result[scenario].loc['Consumption total', :] for scenario in scenarios}\n",
    "consumption_total = pd.DataFrame(consumption_total).T / 10**9\n",
    "consumption_subsidies = consumption_total.iloc[0, :] - consumption_total.iloc[1, :]\n",
    "consumption_total"
   ]
  },
  {
   "cell_type": "code",
   "execution_count": 10,
   "id": "amateur-homework",
   "metadata": {},
   "outputs": [
    {
     "data": {
      "image/png": "[encoded data removed]",
      "text/plain": [
       "<Figure size 921.6x691.2 with 2 Axes>"
      ]
     },
     "metadata": {
      "needs_background": "light"
     },
     "output_type": "display_data"
    }
   ],
   "source": [
    "economic_subplots(consumption_total, 'Consumption total (TWh)', n_columns=2)"
   ]
  },
  {
   "cell_type": "markdown",
   "id": "mental-words",
   "metadata": {},
   "source": [
    "### Efficacity\n",
    "\n",
    "Billion € / TWh cumac --> 10^9€ / 10^9 kWh --> €/kWh"
   ]
  },
  {
   "cell_type": "code",
   "execution_count": 28,
   "id": "electrical-miniature",
   "metadata": {},
   "outputs": [
    {
     "data": {
      "text/html": [
       "<div>\n",
       "<style scoped>\n",
       "    .dataframe tbody tr th:only-of-type {\n",
       "        vertical-align: middle;\n",
       "    }\n",
       "\n",
       "    .dataframe tbody tr th {\n",
       "        vertical-align: top;\n",
       "    }\n",
       "\n",
       "    .dataframe thead th {\n",
       "        text-align: right;\n",
       "    }\n",
       "</style>\n",
       "<table border=\"1\" class=\"dataframe\">\n",
       "  <thead>\n",
       "    <tr style=\"text-align: right;\">\n",
       "      <th></th>\n",
       "      <th>Billions €</th>\n",
       "      <th>TWh cumac</th>\n",
       "      <th>€/kWh</th>\n",
       "    </tr>\n",
       "  </thead>\n",
       "  <tbody>\n",
       "    <tr>\n",
       "      <th>2019</th>\n",
       "      <td>2.008820</td>\n",
       "      <td>0.735340</td>\n",
       "      <td>2.731823</td>\n",
       "    </tr>\n",
       "    <tr>\n",
       "      <th>2020</th>\n",
       "      <td>2.072434</td>\n",
       "      <td>1.459380</td>\n",
       "      <td>1.420078</td>\n",
       "    </tr>\n",
       "    <tr>\n",
       "      <th>2021</th>\n",
       "      <td>2.089377</td>\n",
       "      <td>2.179404</td>\n",
       "      <td>0.958692</td>\n",
       "    </tr>\n",
       "    <tr>\n",
       "      <th>2022</th>\n",
       "      <td>1.969135</td>\n",
       "      <td>2.849721</td>\n",
       "      <td>0.690992</td>\n",
       "    </tr>\n",
       "    <tr>\n",
       "      <th>2023</th>\n",
       "      <td>1.735115</td>\n",
       "      <td>3.400237</td>\n",
       "      <td>0.510292</td>\n",
       "    </tr>\n",
       "    <tr>\n",
       "      <th>2024</th>\n",
       "      <td>1.451922</td>\n",
       "      <td>3.792059</td>\n",
       "      <td>0.382885</td>\n",
       "    </tr>\n",
       "    <tr>\n",
       "      <th>2025</th>\n",
       "      <td>1.157663</td>\n",
       "      <td>4.010482</td>\n",
       "      <td>0.288659</td>\n",
       "    </tr>\n",
       "    <tr>\n",
       "      <th>2026</th>\n",
       "      <td>0.864834</td>\n",
       "      <td>4.055442</td>\n",
       "      <td>0.213253</td>\n",
       "    </tr>\n",
       "    <tr>\n",
       "      <th>2027</th>\n",
       "      <td>0.600633</td>\n",
       "      <td>3.960927</td>\n",
       "      <td>0.151639</td>\n",
       "    </tr>\n",
       "    <tr>\n",
       "      <th>2028</th>\n",
       "      <td>0.394245</td>\n",
       "      <td>3.756048</td>\n",
       "      <td>0.104963</td>\n",
       "    </tr>\n",
       "    <tr>\n",
       "      <th>2029</th>\n",
       "      <td>0.254766</td>\n",
       "      <td>3.490150</td>\n",
       "      <td>0.072996</td>\n",
       "    </tr>\n",
       "  </tbody>\n",
       "</table>\n",
       "</div>"
      ],
      "text/plain": [
       "      Billions €  TWh cumac     €/kWh\n",
       "2019    2.008820   0.735340  2.731823\n",
       "2020    2.072434   1.459380  1.420078\n",
       "2021    2.089377   2.179404  0.958692\n",
       "2022    1.969135   2.849721  0.690992\n",
       "2023    1.735115   3.400237  0.510292\n",
       "2024    1.451922   3.792059  0.382885\n",
       "2025    1.157663   4.010482  0.288659\n",
       "2026    0.864834   4.055442  0.213253\n",
       "2027    0.600633   3.960927  0.151639\n",
       "2028    0.394245   3.756048  0.104963\n",
       "2029    0.254766   3.490150  0.072996"
      ]
     },
     "execution_count": 28,
     "metadata": {},
     "output_type": "execute_result"
    }
   ],
   "source": [
    "df = pd.concat((cost_subsidies, consumption_subsidies, cost_subsidies / consumption_subsidies), axis=1)\n",
    "df.columns = ['Billions €', 'TWh cumac', '€/kWh']\n",
    "df"
   ]
  },
  {
   "cell_type": "markdown",
   "id": "organic-trailer",
   "metadata": {},
   "source": [
    "### Efficiency"
   ]
  },
  {
   "cell_type": "markdown",
   "id": "charming-survival",
   "metadata": {},
   "source": [
    "#### a"
   ]
  },
  {
   "cell_type": "markdown",
   "id": "original-iceland",
   "metadata": {},
   "source": [
    "## Objective 2 - Total number of renovations\n",
    "\n",
    "Renovation of 500,000 housings/yr with 120,000/yr for social-housing."
   ]
  },
  {
   "cell_type": "code",
   "execution_count": 34,
   "id": "perfect-passport",
   "metadata": {},
   "outputs": [
    {
     "data": {
      "text/html": [
       "<div>\n",
       "<style scoped>\n",
       "    .dataframe tbody tr th:only-of-type {\n",
       "        vertical-align: middle;\n",
       "    }\n",
       "\n",
       "    .dataframe tbody tr th {\n",
       "        vertical-align: top;\n",
       "    }\n",
       "\n",
       "    .dataframe thead th {\n",
       "        text-align: right;\n",
       "    }\n",
       "</style>\n",
       "<table border=\"1\" class=\"dataframe\">\n",
       "  <thead>\n",
       "    <tr style=\"text-align: right;\">\n",
       "      <th></th>\n",
       "      <th>2019</th>\n",
       "      <th>2020</th>\n",
       "      <th>2021</th>\n",
       "      <th>2022</th>\n",
       "      <th>2023</th>\n",
       "      <th>2024</th>\n",
       "      <th>2025</th>\n",
       "      <th>2026</th>\n",
       "      <th>2027</th>\n",
       "      <th>2028</th>\n",
       "      <th>2029</th>\n",
       "    </tr>\n",
       "  </thead>\n",
       "  <tbody>\n",
       "    <tr>\n",
       "      <th>No_CITE</th>\n",
       "      <td>495.346489</td>\n",
       "      <td>568.290421</td>\n",
       "      <td>695.092775</td>\n",
       "      <td>805.247815</td>\n",
       "      <td>896.304993</td>\n",
       "      <td>962.14095</td>\n",
       "      <td>1011.042460</td>\n",
       "      <td>1033.281996</td>\n",
       "      <td>1030.604747</td>\n",
       "      <td>1010.045018</td>\n",
       "      <td>976.657644</td>\n",
       "    </tr>\n",
       "    <tr>\n",
       "      <th>CITE</th>\n",
       "      <td>600.658441</td>\n",
       "      <td>672.693731</td>\n",
       "      <td>795.537978</td>\n",
       "      <td>894.665502</td>\n",
       "      <td>967.892098</td>\n",
       "      <td>1012.35333</td>\n",
       "      <td>1039.387253</td>\n",
       "      <td>1041.139917</td>\n",
       "      <td>1021.056760</td>\n",
       "      <td>987.626607</td>\n",
       "      <td>945.763287</td>\n",
       "    </tr>\n",
       "  </tbody>\n",
       "</table>\n",
       "</div>"
      ],
      "text/plain": [
       "               2019        2020        2021        2022        2023  \\\n",
       "No_CITE  495.346489  568.290421  695.092775  805.247815  896.304993   \n",
       "CITE     600.658441  672.693731  795.537978  894.665502  967.892098   \n",
       "\n",
       "               2024         2025         2026         2027         2028  \\\n",
       "No_CITE   962.14095  1011.042460  1033.281996  1030.604747  1010.045018   \n",
       "CITE     1012.35333  1039.387253  1041.139917  1021.056760   987.626607   \n",
       "\n",
       "               2029  \n",
       "No_CITE  976.657644  \n",
       "CITE     945.763287  "
      ]
     },
     "execution_count": 34,
     "metadata": {},
     "output_type": "execute_result"
    }
   ],
   "source": [
    "renovations_total = {scenario: main_result[scenario].loc['Total number of renovations', :] for scenario in scenarios}\n",
    "renovations_total = pd.DataFrame(renovations_total).T / 1000\n",
    "renovations_subsidies = abs(renovations_total.iloc[0, :] - renovations_total.iloc[1, :])\n",
    "renovations_total"
   ]
  },
  {
   "cell_type": "code",
   "execution_count": 35,
   "id": "occasional-midnight",
   "metadata": {},
   "outputs": [
    {
     "data": {
      "image/png": "[encoded data removed]",
      "text/plain": [
       "<Figure size 921.6x691.2 with 2 Axes>"
      ]
     },
     "metadata": {
      "needs_background": "light"
     },
     "output_type": "display_data"
    }
   ],
   "source": [
    "economic_subplots(renovations_total, 'Renovation total (Thousands)', n_columns=2)"
   ]
  },
  {
   "cell_type": "markdown",
   "id": "super-color",
   "metadata": {},
   "source": [
    "### Efficacity\n",
    "\n",
    "Billion € / TWh cumac --> 10^9€ / 10^9 kWh --> €/kWh"
   ]
  },
  {
   "cell_type": "code",
   "execution_count": 41,
   "id": "sound-flash",
   "metadata": {},
   "outputs": [
    {
     "data": {
      "text/html": [
       "<div>\n",
       "<style scoped>\n",
       "    .dataframe tbody tr th:only-of-type {\n",
       "        vertical-align: middle;\n",
       "    }\n",
       "\n",
       "    .dataframe tbody tr th {\n",
       "        vertical-align: top;\n",
       "    }\n",
       "\n",
       "    .dataframe thead th {\n",
       "        text-align: right;\n",
       "    }\n",
       "</style>\n",
       "<table border=\"1\" class=\"dataframe\">\n",
       "  <thead>\n",
       "    <tr style=\"text-align: right;\">\n",
       "      <th></th>\n",
       "      <th>Billions €</th>\n",
       "      <th>Thousands renovation</th>\n",
       "      <th>€/renovation</th>\n",
       "    </tr>\n",
       "  </thead>\n",
       "  <tbody>\n",
       "    <tr>\n",
       "      <th>2019</th>\n",
       "      <td>2.008820</td>\n",
       "      <td>105.311952</td>\n",
       "      <td>19074.945833</td>\n",
       "    </tr>\n",
       "    <tr>\n",
       "      <th>2020</th>\n",
       "      <td>2.072434</td>\n",
       "      <td>104.403310</td>\n",
       "      <td>19850.266622</td>\n",
       "    </tr>\n",
       "    <tr>\n",
       "      <th>2021</th>\n",
       "      <td>2.089377</td>\n",
       "      <td>100.445202</td>\n",
       "      <td>20801.166649</td>\n",
       "    </tr>\n",
       "    <tr>\n",
       "      <th>2022</th>\n",
       "      <td>1.969135</td>\n",
       "      <td>89.417687</td>\n",
       "      <td>22021.761089</td>\n",
       "    </tr>\n",
       "    <tr>\n",
       "      <th>2023</th>\n",
       "      <td>1.735115</td>\n",
       "      <td>71.587106</td>\n",
       "      <td>24237.808379</td>\n",
       "    </tr>\n",
       "    <tr>\n",
       "      <th>2024</th>\n",
       "      <td>1.451922</td>\n",
       "      <td>50.212380</td>\n",
       "      <td>28915.625206</td>\n",
       "    </tr>\n",
       "    <tr>\n",
       "      <th>2025</th>\n",
       "      <td>1.157663</td>\n",
       "      <td>28.344793</td>\n",
       "      <td>40842.187962</td>\n",
       "    </tr>\n",
       "    <tr>\n",
       "      <th>2026</th>\n",
       "      <td>0.864834</td>\n",
       "      <td>7.857921</td>\n",
       "      <td>110058.888095</td>\n",
       "    </tr>\n",
       "    <tr>\n",
       "      <th>2027</th>\n",
       "      <td>0.600633</td>\n",
       "      <td>9.547987</td>\n",
       "      <td>62906.765426</td>\n",
       "    </tr>\n",
       "    <tr>\n",
       "      <th>2028</th>\n",
       "      <td>0.394245</td>\n",
       "      <td>22.418411</td>\n",
       "      <td>17585.756377</td>\n",
       "    </tr>\n",
       "    <tr>\n",
       "      <th>2029</th>\n",
       "      <td>0.254766</td>\n",
       "      <td>30.894357</td>\n",
       "      <td>8246.371241</td>\n",
       "    </tr>\n",
       "  </tbody>\n",
       "</table>\n",
       "</div>"
      ],
      "text/plain": [
       "      Billions €  Thousands renovation   €/renovation\n",
       "2019    2.008820            105.311952   19074.945833\n",
       "2020    2.072434            104.403310   19850.266622\n",
       "2021    2.089377            100.445202   20801.166649\n",
       "2022    1.969135             89.417687   22021.761089\n",
       "2023    1.735115             71.587106   24237.808379\n",
       "2024    1.451922             50.212380   28915.625206\n",
       "2025    1.157663             28.344793   40842.187962\n",
       "2026    0.864834              7.857921  110058.888095\n",
       "2027    0.600633              9.547987   62906.765426\n",
       "2028    0.394245             22.418411   17585.756377\n",
       "2029    0.254766             30.894357    8246.371241"
      ]
     },
     "execution_count": 41,
     "metadata": {},
     "output_type": "execute_result"
    }
   ],
   "source": [
    "df = pd.concat((cost_subsidies, renovations_subsidies, cost_subsidies * 10**9 / (renovations_subsidies * 10**3)), axis=1)\n",
    "df.columns = ['Billions €', 'Thousands renovation', '€/renovation']\n",
    "df"
   ]
  },
  {
   "cell_type": "markdown",
   "id": "great-theology",
   "metadata": {},
   "source": [
    "## Objective 3 - Number of G & F buildings\n",
    "\n",
    "No more F and G buildings in 2025."
   ]
  },
  {
   "cell_type": "code",
   "execution_count": 42,
   "id": "composite-observer",
   "metadata": {},
   "outputs": [
    {
     "data": {
      "text/html": [
       "<div>\n",
       "<style scoped>\n",
       "    .dataframe tbody tr th:only-of-type {\n",
       "        vertical-align: middle;\n",
       "    }\n",
       "\n",
       "    .dataframe tbody tr th {\n",
       "        vertical-align: top;\n",
       "    }\n",
       "\n",
       "    .dataframe thead th {\n",
       "        text-align: right;\n",
       "    }\n",
       "</style>\n",
       "<table border=\"1\" class=\"dataframe\">\n",
       "  <thead>\n",
       "    <tr style=\"text-align: right;\">\n",
       "      <th></th>\n",
       "      <th>2019</th>\n",
       "      <th>2020</th>\n",
       "      <th>2021</th>\n",
       "      <th>2022</th>\n",
       "      <th>2023</th>\n",
       "      <th>2024</th>\n",
       "      <th>2025</th>\n",
       "      <th>2026</th>\n",
       "      <th>2027</th>\n",
       "      <th>2028</th>\n",
       "      <th>2029</th>\n",
       "    </tr>\n",
       "  </thead>\n",
       "  <tbody>\n",
       "    <tr>\n",
       "      <th>No_CITE</th>\n",
       "      <td>4.287247</td>\n",
       "      <td>4.042440</td>\n",
       "      <td>3.765302</td>\n",
       "      <td>3.468432</td>\n",
       "      <td>3.162539</td>\n",
       "      <td>2.856809</td>\n",
       "      <td>2.560277</td>\n",
       "      <td>2.284456</td>\n",
       "      <td>2.032637</td>\n",
       "      <td>1.808668</td>\n",
       "      <td>1.614379</td>\n",
       "    </tr>\n",
       "    <tr>\n",
       "      <th>CITE</th>\n",
       "      <td>4.247479</td>\n",
       "      <td>3.967915</td>\n",
       "      <td>3.663677</td>\n",
       "      <td>3.347361</td>\n",
       "      <td>3.030066</td>\n",
       "      <td>2.721404</td>\n",
       "      <td>2.428681</td>\n",
       "      <td>2.162148</td>\n",
       "      <td>1.922225</td>\n",
       "      <td>1.712576</td>\n",
       "      <td>1.531766</td>\n",
       "    </tr>\n",
       "  </tbody>\n",
       "</table>\n",
       "</div>"
      ],
      "text/plain": [
       "             2019      2020      2021      2022      2023      2024      2025  \\\n",
       "No_CITE  4.287247  4.042440  3.765302  3.468432  3.162539  2.856809  2.560277   \n",
       "CITE     4.247479  3.967915  3.663677  3.347361  3.030066  2.721404  2.428681   \n",
       "\n",
       "             2026      2027      2028      2029  \n",
       "No_CITE  2.284456  2.032637  1.808668  1.614379  \n",
       "CITE     2.162148  1.922225  1.712576  1.531766  "
      ]
     },
     "execution_count": 42,
     "metadata": {},
     "output_type": "execute_result"
    }
   ],
   "source": [
    "gf_buildings = {scenario: main_result[scenario].loc['Number of G & F buildings', :] for scenario in scenarios}\n",
    "gf_buildings = pd.DataFrame(gf_buildings).T / 10**6\n",
    "gf_buildings_subsidies = abs(gf_buildings.iloc[0, :] - gf_buildings.iloc[1, :])\n",
    "gf_buildings"
   ]
  },
  {
   "cell_type": "code",
   "execution_count": 14,
   "id": "skilled-brunswick",
   "metadata": {},
   "outputs": [
    {
     "data": {
      "image/png": "[encoded data removed]",
      "text/plain": [
       "<Figure size 921.6x691.2 with 2 Axes>"
      ]
     },
     "metadata": {
      "needs_background": "light"
     },
     "output_type": "display_data"
    }
   ],
   "source": [
    "economic_subplots(gf_buildings, 'Number of G & F buildings (Millions)', n_columns=2, format_val=lambda x: '{:.1f}'.format(x))"
   ]
  },
  {
   "cell_type": "markdown",
   "id": "residential-carnival",
   "metadata": {},
   "source": [
    "### Efficacity"
   ]
  },
  {
   "cell_type": "code",
   "execution_count": 43,
   "id": "saving-litigation",
   "metadata": {},
   "outputs": [
    {
     "data": {
      "text/html": [
       "<div>\n",
       "<style scoped>\n",
       "    .dataframe tbody tr th:only-of-type {\n",
       "        vertical-align: middle;\n",
       "    }\n",
       "\n",
       "    .dataframe tbody tr th {\n",
       "        vertical-align: top;\n",
       "    }\n",
       "\n",
       "    .dataframe thead th {\n",
       "        text-align: right;\n",
       "    }\n",
       "</style>\n",
       "<table border=\"1\" class=\"dataframe\">\n",
       "  <thead>\n",
       "    <tr style=\"text-align: right;\">\n",
       "      <th></th>\n",
       "      <th>Billions €</th>\n",
       "      <th>Thousands renovation</th>\n",
       "      <th>€/renovation</th>\n",
       "    </tr>\n",
       "  </thead>\n",
       "  <tbody>\n",
       "    <tr>\n",
       "      <th>2019</th>\n",
       "      <td>2.008820</td>\n",
       "      <td>0.039769</td>\n",
       "      <td>5.051260e+07</td>\n",
       "    </tr>\n",
       "    <tr>\n",
       "      <th>2020</th>\n",
       "      <td>2.072434</td>\n",
       "      <td>0.074525</td>\n",
       "      <td>2.780862e+07</td>\n",
       "    </tr>\n",
       "    <tr>\n",
       "      <th>2021</th>\n",
       "      <td>2.089377</td>\n",
       "      <td>0.101624</td>\n",
       "      <td>2.055979e+07</td>\n",
       "    </tr>\n",
       "    <tr>\n",
       "      <th>2022</th>\n",
       "      <td>1.969135</td>\n",
       "      <td>0.121072</td>\n",
       "      <td>1.626423e+07</td>\n",
       "    </tr>\n",
       "    <tr>\n",
       "      <th>2023</th>\n",
       "      <td>1.735115</td>\n",
       "      <td>0.132473</td>\n",
       "      <td>1.309786e+07</td>\n",
       "    </tr>\n",
       "    <tr>\n",
       "      <th>2024</th>\n",
       "      <td>1.451922</td>\n",
       "      <td>0.135405</td>\n",
       "      <td>1.072281e+07</td>\n",
       "    </tr>\n",
       "    <tr>\n",
       "      <th>2025</th>\n",
       "      <td>1.157663</td>\n",
       "      <td>0.131596</td>\n",
       "      <td>8.797117e+06</td>\n",
       "    </tr>\n",
       "    <tr>\n",
       "      <th>2026</th>\n",
       "      <td>0.864834</td>\n",
       "      <td>0.122308</td>\n",
       "      <td>7.070937e+06</td>\n",
       "    </tr>\n",
       "    <tr>\n",
       "      <th>2027</th>\n",
       "      <td>0.600633</td>\n",
       "      <td>0.110411</td>\n",
       "      <td>5.439967e+06</td>\n",
       "    </tr>\n",
       "    <tr>\n",
       "      <th>2028</th>\n",
       "      <td>0.394245</td>\n",
       "      <td>0.096092</td>\n",
       "      <td>4.102790e+06</td>\n",
       "    </tr>\n",
       "    <tr>\n",
       "      <th>2029</th>\n",
       "      <td>0.254766</td>\n",
       "      <td>0.082613</td>\n",
       "      <td>3.083841e+06</td>\n",
       "    </tr>\n",
       "  </tbody>\n",
       "</table>\n",
       "</div>"
      ],
      "text/plain": [
       "      Billions €  Thousands renovation  €/renovation\n",
       "2019    2.008820              0.039769  5.051260e+07\n",
       "2020    2.072434              0.074525  2.780862e+07\n",
       "2021    2.089377              0.101624  2.055979e+07\n",
       "2022    1.969135              0.121072  1.626423e+07\n",
       "2023    1.735115              0.132473  1.309786e+07\n",
       "2024    1.451922              0.135405  1.072281e+07\n",
       "2025    1.157663              0.131596  8.797117e+06\n",
       "2026    0.864834              0.122308  7.070937e+06\n",
       "2027    0.600633              0.110411  5.439967e+06\n",
       "2028    0.394245              0.096092  4.102790e+06\n",
       "2029    0.254766              0.082613  3.083841e+06"
      ]
     },
     "execution_count": 43,
     "metadata": {},
     "output_type": "execute_result"
    }
   ],
   "source": [
    "df = pd.concat((cost_subsidies, gf_buildings_subsidies, cost_subsidies * 10**9 / (gf_buildings_subsidies * 10**3)), axis=1)\n",
    "df.columns = ['Billions €', 'Thousands renovation', '€/renovation']\n",
    "df"
   ]
  },
  {
   "cell_type": "markdown",
   "id": "convinced-smile",
   "metadata": {},
   "source": [
    "## Objective 5"
   ]
  },
  {
   "cell_type": "markdown",
   "id": "alive-charm",
   "metadata": {},
   "source": [
    "## Objective 4 - Emission total\n",
    "\n",
    "gCO2 --> MTCO2 / 10**12"
   ]
  },
  {
   "cell_type": "code",
   "execution_count": 45,
   "id": "powerful-checkout",
   "metadata": {},
   "outputs": [
    {
     "data": {
      "text/html": [
       "<div>\n",
       "<style scoped>\n",
       "    .dataframe tbody tr th:only-of-type {\n",
       "        vertical-align: middle;\n",
       "    }\n",
       "\n",
       "    .dataframe tbody tr th {\n",
       "        vertical-align: top;\n",
       "    }\n",
       "\n",
       "    .dataframe thead th {\n",
       "        text-align: right;\n",
       "    }\n",
       "</style>\n",
       "<table border=\"1\" class=\"dataframe\">\n",
       "  <thead>\n",
       "    <tr style=\"text-align: right;\">\n",
       "      <th></th>\n",
       "      <th>2019</th>\n",
       "      <th>2020</th>\n",
       "      <th>2021</th>\n",
       "      <th>2022</th>\n",
       "      <th>2023</th>\n",
       "      <th>2024</th>\n",
       "      <th>2025</th>\n",
       "      <th>2026</th>\n",
       "      <th>2027</th>\n",
       "      <th>2028</th>\n",
       "      <th>2029</th>\n",
       "    </tr>\n",
       "  </thead>\n",
       "  <tbody>\n",
       "    <tr>\n",
       "      <th>No_CITE</th>\n",
       "      <td>41.894457</td>\n",
       "      <td>40.836763</td>\n",
       "      <td>39.724279</td>\n",
       "      <td>38.584851</td>\n",
       "      <td>37.449267</td>\n",
       "      <td>36.343636</td>\n",
       "      <td>35.297246</td>\n",
       "      <td>34.355210</td>\n",
       "      <td>33.565049</td>\n",
       "      <td>32.962956</td>\n",
       "      <td>32.574572</td>\n",
       "    </tr>\n",
       "    <tr>\n",
       "      <th>CITE</th>\n",
       "      <td>41.729677</td>\n",
       "      <td>40.515671</td>\n",
       "      <td>39.257877</td>\n",
       "      <td>37.992288</td>\n",
       "      <td>36.760919</td>\n",
       "      <td>35.594447</td>\n",
       "      <td>34.522218</td>\n",
       "      <td>33.587077</td>\n",
       "      <td>32.828787</td>\n",
       "      <td>32.277104</td>\n",
       "      <td>31.948096</td>\n",
       "    </tr>\n",
       "  </tbody>\n",
       "</table>\n",
       "</div>"
      ],
      "text/plain": [
       "              2019       2020       2021       2022       2023       2024  \\\n",
       "No_CITE  41.894457  40.836763  39.724279  38.584851  37.449267  36.343636   \n",
       "CITE     41.729677  40.515671  39.257877  37.992288  36.760919  35.594447   \n",
       "\n",
       "              2025       2026       2027       2028       2029  \n",
       "No_CITE  35.297246  34.355210  33.565049  32.962956  32.574572  \n",
       "CITE     34.522218  33.587077  32.828787  32.277104  31.948096  "
      ]
     },
     "execution_count": 45,
     "metadata": {},
     "output_type": "execute_result"
    }
   ],
   "source": [
    "emission_total = {scenario: main_result[scenario].loc['Emission total', :] for scenario in scenarios}\n",
    "emission_total = pd.DataFrame(emission_total).T / 10**12\n",
    "emission_subsidies = abs(emission_total.iloc[0, :] - emission_total.iloc[1, :])\n",
    "\n",
    "emission_total"
   ]
  },
  {
   "cell_type": "code",
   "execution_count": 16,
   "id": "driven-runner",
   "metadata": {},
   "outputs": [
    {
     "data": {
      "image/png": "[encoded data removed]",
      "text/plain": [
       "<Figure size 921.6x691.2 with 2 Axes>"
      ]
     },
     "metadata": {
      "needs_background": "light"
     },
     "output_type": "display_data"
    }
   ],
   "source": [
    "economic_subplots(emission_total, 'Total emissions (MTCO2)', n_columns=2, format_val=lambda x: '{:.0f}'.format(x))"
   ]
  },
  {
   "cell_type": "markdown",
   "id": "figured-aluminum",
   "metadata": {},
   "source": [
    "### Efficacity\n",
    "\n",
    "Billion € / Millions TCO2 cumac --> 10^9€ / 10^6 TCO2 --> €/kWh"
   ]
  },
  {
   "cell_type": "code",
   "execution_count": 48,
   "id": "extensive-summary",
   "metadata": {},
   "outputs": [
    {
     "data": {
      "text/html": [
       "<div>\n",
       "<style scoped>\n",
       "    .dataframe tbody tr th:only-of-type {\n",
       "        vertical-align: middle;\n",
       "    }\n",
       "\n",
       "    .dataframe tbody tr th {\n",
       "        vertical-align: top;\n",
       "    }\n",
       "\n",
       "    .dataframe thead th {\n",
       "        text-align: right;\n",
       "    }\n",
       "</style>\n",
       "<table border=\"1\" class=\"dataframe\">\n",
       "  <thead>\n",
       "    <tr style=\"text-align: right;\">\n",
       "      <th></th>\n",
       "      <th>Billions €</th>\n",
       "      <th>M TCO2</th>\n",
       "      <th>€/kWh</th>\n",
       "    </tr>\n",
       "  </thead>\n",
       "  <tbody>\n",
       "    <tr>\n",
       "      <th>2019</th>\n",
       "      <td>2.008820</td>\n",
       "      <td>0.164780</td>\n",
       "      <td>12190.906536</td>\n",
       "    </tr>\n",
       "    <tr>\n",
       "      <th>2020</th>\n",
       "      <td>2.072434</td>\n",
       "      <td>0.321092</td>\n",
       "      <td>6454.322418</td>\n",
       "    </tr>\n",
       "    <tr>\n",
       "      <th>2021</th>\n",
       "      <td>2.089377</td>\n",
       "      <td>0.466402</td>\n",
       "      <td>4479.776556</td>\n",
       "    </tr>\n",
       "    <tr>\n",
       "      <th>2022</th>\n",
       "      <td>1.969135</td>\n",
       "      <td>0.592563</td>\n",
       "      <td>3323.081829</td>\n",
       "    </tr>\n",
       "    <tr>\n",
       "      <th>2023</th>\n",
       "      <td>1.735115</td>\n",
       "      <td>0.688348</td>\n",
       "      <td>2520.693118</td>\n",
       "    </tr>\n",
       "    <tr>\n",
       "      <th>2024</th>\n",
       "      <td>1.451922</td>\n",
       "      <td>0.749190</td>\n",
       "      <td>1937.990152</td>\n",
       "    </tr>\n",
       "    <tr>\n",
       "      <th>2025</th>\n",
       "      <td>1.157663</td>\n",
       "      <td>0.775027</td>\n",
       "      <td>1493.706529</td>\n",
       "    </tr>\n",
       "    <tr>\n",
       "      <th>2026</th>\n",
       "      <td>0.864834</td>\n",
       "      <td>0.768133</td>\n",
       "      <td>1125.890247</td>\n",
       "    </tr>\n",
       "    <tr>\n",
       "      <th>2027</th>\n",
       "      <td>0.600633</td>\n",
       "      <td>0.736263</td>\n",
       "      <td>815.786178</td>\n",
       "    </tr>\n",
       "    <tr>\n",
       "      <th>2028</th>\n",
       "      <td>0.394245</td>\n",
       "      <td>0.685853</td>\n",
       "      <td>574.824187</td>\n",
       "    </tr>\n",
       "    <tr>\n",
       "      <th>2029</th>\n",
       "      <td>0.254766</td>\n",
       "      <td>0.626476</td>\n",
       "      <td>406.665670</td>\n",
       "    </tr>\n",
       "  </tbody>\n",
       "</table>\n",
       "</div>"
      ],
      "text/plain": [
       "      Billions €    M TCO2         €/kWh\n",
       "2019    2.008820  0.164780  12190.906536\n",
       "2020    2.072434  0.321092   6454.322418\n",
       "2021    2.089377  0.466402   4479.776556\n",
       "2022    1.969135  0.592563   3323.081829\n",
       "2023    1.735115  0.688348   2520.693118\n",
       "2024    1.451922  0.749190   1937.990152\n",
       "2025    1.157663  0.775027   1493.706529\n",
       "2026    0.864834  0.768133   1125.890247\n",
       "2027    0.600633  0.736263    815.786178\n",
       "2028    0.394245  0.685853    574.824187\n",
       "2029    0.254766  0.626476    406.665670"
      ]
     },
     "execution_count": 48,
     "metadata": {},
     "output_type": "execute_result"
    }
   ],
   "source": [
    "df = pd.concat((cost_subsidies, emission_subsidies, cost_subsidies * 10**9 / (emission_subsidies * 10**6)), axis=1)\n",
    "df.columns = ['Billions €', 'M TCO2', '€/kWh']\n",
    "df"
   ]
  },
  {
   "cell_type": "code",
   "execution_count": null,
   "id": "faced-belfast",
   "metadata": {},
   "outputs": [],
   "source": []
  }
 ],
 "metadata": {
  "kernelspec": {
   "display_name": "Python 3",
   "language": "python",
   "name": "python3"
  },
  "language_info": {
   "codemirror_mode": {
    "name": "ipython",
    "version": 3
   },
   "file_extension": ".py",
   "mimetype": "text/x-python",
   "name": "python",
   "nbconvert_exporter": "python",
   "pygments_lexer": "ipython3",
   "version": "3.7.10"
  }
 },
 "nbformat": 4,
 "nbformat_minor": 5
}
